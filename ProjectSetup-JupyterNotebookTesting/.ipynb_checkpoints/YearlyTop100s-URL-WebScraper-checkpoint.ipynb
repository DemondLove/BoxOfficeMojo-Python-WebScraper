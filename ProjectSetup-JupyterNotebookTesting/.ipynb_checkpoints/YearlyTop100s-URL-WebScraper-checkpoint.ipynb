{
 "cells": [
  {
   "cell_type": "markdown",
   "metadata": {},
   "source": [
    "# YearlyTop100s URL Web Scraper"
   ]
  },
  {
   "cell_type": "markdown",
   "metadata": {},
   "source": [
    "Test to scrape the all URLs from a YearlyTop100s page, 1980 in this example, to pull all URLs + URL to YearlyNonTop100s."
   ]
  },
  {
   "cell_type": "code",
   "execution_count": 176,
   "metadata": {},
   "outputs": [],
   "source": [
    "from bs4 import BeautifulSoup\n",
    "\n",
    "import requests"
   ]
  },
  {
   "cell_type": "code",
   "execution_count": 177,
   "metadata": {},
   "outputs": [],
   "source": [
    "page = requests.get('https://www.boxofficemojo.com/yearly/chart/?yr=1980&p=.htm')"
   ]
  },
  {
   "cell_type": "code",
   "execution_count": 178,
   "metadata": {},
   "outputs": [],
   "source": [
    "soup = BeautifulSoup(page.content, 'lxml')"
   ]
  },
  {
   "cell_type": "code",
   "execution_count": 179,
   "metadata": {},
   "outputs": [],
   "source": [
    "body = soup.find('table', cellpadding='5')"
   ]
  },
  {
   "cell_type": "code",
   "execution_count": 180,
   "metadata": {},
   "outputs": [],
   "source": [
    "urls_rows = body.find_all('tr', bgcolor='#ffffff')"
   ]
  },
  {
   "cell_type": "code",
   "execution_count": 181,
   "metadata": {},
   "outputs": [],
   "source": [
    "li = []\n",
    "for tr in urls_rows:\n",
    "    td = tr.find_all('a')\n",
    "    for i in td:\n",
    "        li.append(i.get('href'))"
   ]
  },
  {
   "cell_type": "code",
   "execution_count": 182,
   "metadata": {},
   "outputs": [],
   "source": [
    "urls_rows = body.find_all('tr', bgcolor='#f4f4ff')"
   ]
  },
  {
   "cell_type": "code",
   "execution_count": 183,
   "metadata": {},
   "outputs": [],
   "source": [
    "lis = []\n",
    "for tr in urls_rows:\n",
    "    td = tr.find_all('a')\n",
    "    for i in td:\n",
    "        lis.append(i.get('href'))"
   ]
  },
  {
   "cell_type": "code",
   "execution_count": 184,
   "metadata": {},
   "outputs": [
    {
     "data": {
      "text/plain": [
       "149"
      ]
     },
     "execution_count": 184,
     "metadata": {},
     "output_type": "execute_result"
    }
   ],
   "source": [
    "len(li)"
   ]
  },
  {
   "cell_type": "code",
   "execution_count": 185,
   "metadata": {},
   "outputs": [],
   "source": [
    "movies = []\n",
    "for i in range(0, len(li)-1):\n",
    "    if 'movies' in li[i]:\n",
    "        movies.append(li[i])"
   ]
  },
  {
   "cell_type": "code",
   "execution_count": 186,
   "metadata": {},
   "outputs": [],
   "source": [
    "for i in range(0, len(lis)-1):\n",
    "    if 'movies' in lis[i]:\n",
    "        movies.append(lis[i])"
   ]
  },
  {
   "cell_type": "code",
   "execution_count": 187,
   "metadata": {},
   "outputs": [],
   "source": [
    "for i in range(0, len(movies)-1):\n",
    "    movies[i] = 'https://www.boxofficemojo.com'+ movies[i]"
   ]
  },
  {
   "cell_type": "code",
   "execution_count": 188,
   "metadata": {},
   "outputs": [
    {
     "data": {
      "text/plain": [
       "100"
      ]
     },
     "execution_count": 188,
     "metadata": {},
     "output_type": "execute_result"
    }
   ],
   "source": [
    "len(movies)"
   ]
  },
  {
   "cell_type": "code",
   "execution_count": 189,
   "metadata": {},
   "outputs": [],
   "source": [
    "footer = soup.find('center')"
   ]
  },
  {
   "cell_type": "code",
   "execution_count": 190,
   "metadata": {},
   "outputs": [],
   "source": [
    "footer_url_rows = footer.find_all('a')"
   ]
  },
  {
   "cell_type": "code",
   "execution_count": 191,
   "metadata": {},
   "outputs": [],
   "source": [
    "yearly = []\n",
    "for i in footer_url_rows:\n",
    "    yearly.append(i.get('href'))"
   ]
  },
  {
   "cell_type": "code",
   "execution_count": 192,
   "metadata": {},
   "outputs": [],
   "source": [
    "if len(yearly) == 1:\n",
    "    yearly[0] = 'https://www.boxofficemojo.com'+ yearly[0]\n",
    "else:\n",
    "    for i in range(0, len(yearly)-1):\n",
    "        yearly[i] = 'https://www.boxofficemojo.com'+ yearly[i]"
   ]
  },
  {
   "cell_type": "code",
   "execution_count": 193,
   "metadata": {},
   "outputs": [
    {
     "data": {
      "text/plain": [
       "['https://www.boxofficemojo.com/movies/?id=starwars5.htm',\n",
       " 'https://www.boxofficemojo.com/movies/?id=stircrazy.htm',\n",
       " 'https://www.boxofficemojo.com/movies/?id=anywhichwayyoucan.htm',\n",
       " 'https://www.boxofficemojo.com/movies/?id=coalminersdaughter.htm',\n",
       " 'https://www.boxofficemojo.com/movies/?id=bluelagoon.htm',\n",
       " 'https://www.boxofficemojo.com/movies/?id=ordinarypeople.htm',\n",
       " 'https://www.boxofficemojo.com/movies/?id=urbancowboy.htm',\n",
       " 'https://www.boxofficemojo.com/movies/?id=seemslikeoldtimes.htm',\n",
       " 'https://www.boxofficemojo.com/movies/?id=caddyshack.htm',\n",
       " 'https://www.boxofficemojo.com/movies/?id=brubaker.htm',\n",
       " 'https://www.boxofficemojo.com/movies/?id=dressedtokill.htm',\n",
       " 'https://www.boxofficemojo.com/movies/?id=flashgordon.htm',\n",
       " 'https://www.boxofficemojo.com/movies/?id=elephantman.htm',\n",
       " 'https://www.boxofficemojo.com/movies/?id=ragingbull.htm',\n",
       " 'https://www.boxofficemojo.com/movies/?id=americangigolo.htm',\n",
       " 'https://www.boxofficemojo.com/movies/?id=fog.htm',\n",
       " 'https://www.boxofficemojo.com/movies/?id=tess.htm',\n",
       " 'https://www.boxofficemojo.com/movies/?id=songofthesouth80.htm',\n",
       " 'https://www.boxofficemojo.com/movies/?id=octagon.htm',\n",
       " 'https://www.boxofficemojo.com/movies/?id=honeysucklerose.htm',\n",
       " 'https://www.boxofficemojo.com/movies/?id=roughcut.htm',\n",
       " 'https://www.boxofficemojo.com/movies/?id=hunter.htm',\n",
       " 'https://www.boxofficemojo.com/movies/?id=longriders.htm',\n",
       " 'https://www.boxofficemojo.com/movies/?id=closeencounters80.htm',\n",
       " 'https://www.boxofficemojo.com/movies/?id=promnight.htm',\n",
       " 'https://www.boxofficemojo.com/movies/?id=ohgodbook2.htm',\n",
       " 'https://www.boxofficemojo.com/movies/?id=whollymoses.htm',\n",
       " 'https://www.boxofficemojo.com/movies/?id=lastmarriedcoupleinamerica.htm',\n",
       " 'https://www.boxofficemojo.com/movies/?id=mirrorcrackd.htm',\n",
       " 'https://www.boxofficemojo.com/movies/?id=fiendishplotoffumanchu.htm',\n",
       " 'https://www.boxofficemojo.com/movies/?id=hollywoodknights.htm',\n",
       " 'https://www.boxofficemojo.com/movies/?id=somewhereintime.htm',\n",
       " 'https://www.boxofficemojo.com/movies/?id=saturn3.htm',\n",
       " 'https://www.boxofficemojo.com/movies/?id=madmax.htm',\n",
       " 'https://www.boxofficemojo.com/movies/?id=awakening.htm',\n",
       " 'https://www.boxofficemojo.com/movies/?id=howtobecomeadetective.htm',\n",
       " 'https://www.boxofficemojo.com/movies/?id=foxes.htm',\n",
       " 'https://www.boxofficemojo.com/movies/?id=stuntman.htm',\n",
       " 'https://www.boxofficemojo.com/movies/?id=gongshowmovie.htm',\n",
       " 'https://www.boxofficemojo.com/movies/?id=littlemissmarker.htm',\n",
       " 'https://www.boxofficemojo.com/movies/?id=divinemadness.htm',\n",
       " 'https://www.boxofficemojo.com/movies/?id=heknowsyourealone.htm',\n",
       " 'https://www.boxofficemojo.com/movies/?id=willieandphil.htm',\n",
       " 'https://www.boxofficemojo.com/movies/?id=roadie.htm',\n",
       " 'https://www.boxofficemojo.com/movies/?id=jaws280.htm',\n",
       " 'https://www.boxofficemojo.com/movies/?id=resurrection.htm',\n",
       " 'https://www.boxofficemojo.com/movies/?id=guyanacultofthedamned.htm',\n",
       " 'https://www.boxofficemojo.com/movies/?id=heavensgate.htm',\n",
       " 'https://www.boxofficemojo.com/movies/?id=midnightmadness.htm',\n",
       " 'https://www.boxofficemojo.com/movies/?id=idolmaker.htm',\n",
       " 'https://www.boxofficemojo.com/movies/?id=9to5.htm',\n",
       " 'https://www.boxofficemojo.com/movies/?id=airplane.htm',\n",
       " 'https://www.boxofficemojo.com/movies/?id=privatebenjamin.htm',\n",
       " 'https://www.boxofficemojo.com/movies/?id=smokeyandthebandit2.htm',\n",
       " 'https://www.boxofficemojo.com/movies/?id=bluesbrothers.htm',\n",
       " 'https://www.boxofficemojo.com/movies/?id=popeye.htm',\n",
       " 'https://www.boxofficemojo.com/movies/?id=shining.htm',\n",
       " 'https://www.boxofficemojo.com/movies/?id=cheechchong2.htm',\n",
       " 'https://www.boxofficemojo.com/movies/?id=friday13th.htm',\n",
       " 'https://www.boxofficemojo.com/movies/?id=littledarlings.htm',\n",
       " 'https://www.boxofficemojo.com/movies/?id=jazzsinger.htm',\n",
       " 'https://www.boxofficemojo.com/movies/?id=ladyandthetramp80.htm',\n",
       " 'https://www.boxofficemojo.com/movies/?id=broncobilly.htm',\n",
       " 'https://www.boxofficemojo.com/movies/?id=xanadu.htm',\n",
       " 'https://www.boxofficemojo.com/movies/?id=mybodyguard.htm',\n",
       " 'https://www.boxofficemojo.com/movies/?id=fame.htm',\n",
       " 'https://www.boxofficemojo.com/movies/?id=alteredstates.htm',\n",
       " 'https://www.boxofficemojo.com/movies/?id=cruising.htm',\n",
       " 'https://www.boxofficemojo.com/movies/?id=aristocats80.htm',\n",
       " 'https://www.boxofficemojo.com/movies/?id=herbiegoesbananas.htm',\n",
       " 'https://www.boxofficemojo.com/movies/?id=finalcountdown.htm',\n",
       " 'https://www.boxofficemojo.com/movies/?id=heroatlarge.htm',\n",
       " 'https://www.boxofficemojo.com/movies/?id=island.htm',\n",
       " 'https://www.boxofficemojo.com/movies/?id=firstfamily.htm',\n",
       " 'https://www.boxofficemojo.com/movies/?id=nudebomb.htm',\n",
       " 'https://www.boxofficemojo.com/movies/?id=competition.htm',\n",
       " 'https://www.boxofficemojo.com/movies/?id=marypoppins80.htm',\n",
       " 'https://www.boxofficemojo.com/movies/?id=usedcars.htm',\n",
       " 'https://www.boxofficemojo.com/movies/?id=lastflightofnoahsark.htm',\n",
       " 'https://www.boxofficemojo.com/movies/?id=stardustmemories.htm',\n",
       " 'https://www.boxofficemojo.com/movies/?id=serial.htm',\n",
       " 'https://www.boxofficemojo.com/movies/?id=tribute.htm',\n",
       " 'https://www.boxofficemojo.com/movies/?id=formula.htm',\n",
       " 'https://www.boxofficemojo.com/movies/?id=bigbrawl.htm',\n",
       " 'https://www.boxofficemojo.com/movies/?id=fatso.htm',\n",
       " 'https://www.boxofficemojo.com/movies/?id=howtobeatthehighcostofliving.htm',\n",
       " 'https://www.boxofficemojo.com/movies/?id=bigredone.htm',\n",
       " 'https://www.boxofficemojo.com/movies/?id=wherethebuffaloroam.htm',\n",
       " 'https://www.boxofficemojo.com/movies/?id=motelhell80.htm',\n",
       " 'https://www.boxofficemojo.com/movies/?id=ohheavenlydog.htm',\n",
       " 'https://www.boxofficemojo.com/movies/?id=ingodwetrust.htm',\n",
       " 'https://www.boxofficemojo.com/movies/?id=coasttocoast.htm',\n",
       " 'https://www.boxofficemojo.com/movies/?id=melvinandhoward.htm',\n",
       " 'https://www.boxofficemojo.com/movies/?id=gloria80.htm',\n",
       " 'https://www.boxofficemojo.com/movies/?id=kagemusha.htm',\n",
       " 'https://www.boxofficemojo.com/movies/?id=hideinplainsight.htm',\n",
       " 'https://www.boxofficemojo.com/movies/?id=whentimeranout.htm',\n",
       " 'https://www.boxofficemojo.com/movies/?id=ffolkes.htm',\n",
       " 'https://www.boxofficemojo.com/movies/?id=lovingcouples.htm',\n",
       " '/movies/?id=blackmarble.htm']"
      ]
     },
     "execution_count": 193,
     "metadata": {},
     "output_type": "execute_result"
    }
   ],
   "source": [
    "movies"
   ]
  },
  {
   "cell_type": "code",
   "execution_count": 194,
   "metadata": {},
   "outputs": [
    {
     "data": {
      "text/plain": [
       "['https://www.boxofficemojo.com/yearly/chart/?page=2&view=releasedate&view2=domestic&yr=1980&p=.htm']"
      ]
     },
     "execution_count": 194,
     "metadata": {},
     "output_type": "execute_result"
    }
   ],
   "source": [
    "yearly"
   ]
  }
 ],
 "metadata": {
  "kernelspec": {
   "display_name": "Python 3",
   "language": "python",
   "name": "python3"
  },
  "language_info": {
   "codemirror_mode": {
    "name": "ipython",
    "version": 3
   },
   "file_extension": ".py",
   "mimetype": "text/x-python",
   "name": "python",
   "nbconvert_exporter": "python",
   "pygments_lexer": "ipython3",
   "version": "3.6.4"
  }
 },
 "nbformat": 4,
 "nbformat_minor": 2
}
