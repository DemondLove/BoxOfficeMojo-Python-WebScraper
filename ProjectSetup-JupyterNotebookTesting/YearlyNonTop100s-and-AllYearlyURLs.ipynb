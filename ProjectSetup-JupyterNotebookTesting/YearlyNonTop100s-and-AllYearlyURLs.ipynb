{
 "cells": [
  {
   "cell_type": "markdown",
   "metadata": {},
   "source": [
    "# YearlyNonTop100s and YearlyTop100s"
   ]
  },
  {
   "cell_type": "code",
   "execution_count": 32,
   "metadata": {},
   "outputs": [],
   "source": [
    "from bs4 import BeautifulSoup\n",
    "\n",
    "import requests"
   ]
  },
  {
   "cell_type": "code",
   "execution_count": 33,
   "metadata": {},
   "outputs": [],
   "source": [
    "url = 'https://www.boxofficemojo.com/yearly/'"
   ]
  },
  {
   "cell_type": "code",
   "execution_count": 34,
   "metadata": {},
   "outputs": [],
   "source": [
    "def YearlyTop100sparser(url):\n",
    "    page = requests.get(url)\n",
    "    year = BeautifulSoup(page.content, 'lxml').find('div', id='body').find('table').find_next('table').find_next('table')\n",
    "    li = []\n",
    "    td = year.find_all('a')\n",
    "    for i in td:\n",
    "        li.append(i.get('href'))\n",
    "    YearlyTop100s = []\n",
    "    for i in range(0, len(li)-1):\n",
    "        if 'chart' in li[i]:\n",
    "            YearlyTop100s.append(li[i])\n",
    "    for i in range(0, len(YearlyTop100s)):\n",
    "        YearlyTop100s[i] = 'https://www.boxofficemojo.com/yearly/'+ YearlyTop100s[i]\n",
    "    return YearlyTop100s"
   ]
  },
  {
   "cell_type": "code",
   "execution_count": 35,
   "metadata": {},
   "outputs": [],
   "source": [
    "# YearlyTop100s = YearlyTop100sparser(url)"
   ]
  },
  {
   "cell_type": "code",
   "execution_count": 36,
   "metadata": {},
   "outputs": [],
   "source": [
    "def YearlyNonTop100sparser(url):\n",
    "    YearlyTop100s = YearlyTop100sparser(url)\n",
    "    YearlyNonTop100s = []\n",
    "    for x in YearlyTop100s:\n",
    "        page = requests.get(x)\n",
    "        soup = BeautifulSoup(page.content, 'lxml')\n",
    "        footer = soup.find('center')\n",
    "        footer_url_rows = footer.find_all('a')\n",
    "        for i in footer_url_rows:\n",
    "            YearlyNonTop100s.append(i.get('href'))  \n",
    "    for i in range(0, len(YearlyNonTop100s)):\n",
    "        YearlyNonTop100s[i] = 'https://www.boxofficemojo.com'+ YearlyNonTop100s[i]\n",
    "    return YearlyNonTop100s"
   ]
  },
  {
   "cell_type": "code",
   "execution_count": 37,
   "metadata": {},
   "outputs": [],
   "source": [
    "# YearlyNonTop100s = []\n",
    "# for x in YearlyTop100s:\n",
    "#     page = requests.get(x)\n",
    "#     soup = BeautifulSoup(page.content, 'lxml')\n",
    "#     footer = soup.find('center')\n",
    "#     footer_url_rows = footer.find_all('a')\n",
    "#     for i in footer_url_rows:\n",
    "#         YearlyNonTop100s.append(i.get('href'))"
   ]
  },
  {
   "cell_type": "code",
   "execution_count": 38,
   "metadata": {},
   "outputs": [],
   "source": [
    "# for i in range(0, len(YearlyNonTop100s)):\n",
    "#     YearlyNonTop100s[i] = 'https://www.boxofficemojo.com'+ YearlyNonTop100s[i]"
   ]
  },
  {
   "cell_type": "code",
   "execution_count": 39,
   "metadata": {},
   "outputs": [],
   "source": [
    "# YearlyNonTop100s"
   ]
  },
  {
   "cell_type": "code",
   "execution_count": 40,
   "metadata": {},
   "outputs": [],
   "source": [
    "# def YearlyNonTop100s(url):\n",
    "#     page = requests.get(url)\n",
    "#     footer = BeautifulSoup(page.content, 'lxml')"
   ]
  },
  {
   "cell_type": "code",
   "execution_count": 41,
   "metadata": {},
   "outputs": [],
   "source": [
    "def AllYearlyURLsparser(url):\n",
    "    AllYearlyURLs = []\n",
    "    YearlyTop100s = YearlyTop100sparser(url)\n",
    "    YearlyNonTop100s = YearlyNonTop100sparser(url)\n",
    "    for x in YearlyTop100s:\n",
    "        AllYearlyURLs.append(x)\n",
    "    for x in YearlyNonTop100s:\n",
    "        AllYearlyURLs.append(x)\n",
    "    return AllYearlyURLs"
   ]
  },
  {
   "cell_type": "code",
   "execution_count": 42,
   "metadata": {},
   "outputs": [],
   "source": [
    "AllYearlyURLs = AllYearlyURLsparser(url)"
   ]
  },
  {
   "cell_type": "code",
   "execution_count": 43,
   "metadata": {},
   "outputs": [
    {
     "data": {
      "text/plain": [
       "['https://www.boxofficemojo.com/yearly/chart/?yr=2018&p=.htm',\n",
       " 'https://www.boxofficemojo.com/yearly/chart/?yr=2017&p=.htm',\n",
       " 'https://www.boxofficemojo.com/yearly/chart/?yr=2016&p=.htm',\n",
       " 'https://www.boxofficemojo.com/yearly/chart/?yr=2015&p=.htm',\n",
       " 'https://www.boxofficemojo.com/yearly/chart/?yr=2014&p=.htm',\n",
       " 'https://www.boxofficemojo.com/yearly/chart/?yr=2013&p=.htm',\n",
       " 'https://www.boxofficemojo.com/yearly/chart/?yr=2012&p=.htm',\n",
       " 'https://www.boxofficemojo.com/yearly/chart/?yr=2011&p=.htm',\n",
       " 'https://www.boxofficemojo.com/yearly/chart/?yr=2010&p=.htm',\n",
       " 'https://www.boxofficemojo.com/yearly/chart/?yr=2009&p=.htm',\n",
       " 'https://www.boxofficemojo.com/yearly/chart/?yr=2008&p=.htm',\n",
       " 'https://www.boxofficemojo.com/yearly/chart/?yr=2007&p=.htm',\n",
       " 'https://www.boxofficemojo.com/yearly/chart/?yr=2006&p=.htm',\n",
       " 'https://www.boxofficemojo.com/yearly/chart/?yr=2005&p=.htm',\n",
       " 'https://www.boxofficemojo.com/yearly/chart/?yr=2004&p=.htm',\n",
       " 'https://www.boxofficemojo.com/yearly/chart/?yr=2003&p=.htm',\n",
       " 'https://www.boxofficemojo.com/yearly/chart/?yr=2002&p=.htm',\n",
       " 'https://www.boxofficemojo.com/yearly/chart/?yr=2001&p=.htm',\n",
       " 'https://www.boxofficemojo.com/yearly/chart/?yr=2000&p=.htm',\n",
       " 'https://www.boxofficemojo.com/yearly/chart/?yr=1999&p=.htm',\n",
       " 'https://www.boxofficemojo.com/yearly/chart/?yr=1998&p=.htm',\n",
       " 'https://www.boxofficemojo.com/yearly/chart/?yr=1997&p=.htm',\n",
       " 'https://www.boxofficemojo.com/yearly/chart/?yr=1996&p=.htm',\n",
       " 'https://www.boxofficemojo.com/yearly/chart/?yr=1995&p=.htm',\n",
       " 'https://www.boxofficemojo.com/yearly/chart/?yr=1994&p=.htm',\n",
       " 'https://www.boxofficemojo.com/yearly/chart/?yr=1993&p=.htm',\n",
       " 'https://www.boxofficemojo.com/yearly/chart/?yr=1992&p=.htm',\n",
       " 'https://www.boxofficemojo.com/yearly/chart/?yr=1991&p=.htm',\n",
       " 'https://www.boxofficemojo.com/yearly/chart/?yr=1990&p=.htm',\n",
       " 'https://www.boxofficemojo.com/yearly/chart/?yr=1989&p=.htm',\n",
       " 'https://www.boxofficemojo.com/yearly/chart/?yr=1988&p=.htm',\n",
       " 'https://www.boxofficemojo.com/yearly/chart/?yr=1987&p=.htm',\n",
       " 'https://www.boxofficemojo.com/yearly/chart/?yr=1986&p=.htm',\n",
       " 'https://www.boxofficemojo.com/yearly/chart/?yr=1985&p=.htm',\n",
       " 'https://www.boxofficemojo.com/yearly/chart/?yr=1984&p=.htm',\n",
       " 'https://www.boxofficemojo.com/yearly/chart/?yr=1983&p=.htm',\n",
       " 'https://www.boxofficemojo.com/yearly/chart/?yr=1982&p=.htm',\n",
       " 'https://www.boxofficemojo.com/yearly/chart/?yr=1981&p=.htm',\n",
       " 'https://www.boxofficemojo.com/yearly/chart/?yr=1980&p=.htm',\n",
       " 'https://www.boxofficemojo.com/yearly/chart/?page=2&view=releasedate&view2=domestic&yr=2018&p=.htm',\n",
       " 'https://www.boxofficemojo.com/yearly/chart/?page=3&view=releasedate&view2=domestic&yr=2018&p=.htm',\n",
       " 'https://www.boxofficemojo.com/yearly/chart/?page=4&view=releasedate&view2=domestic&yr=2018&p=.htm',\n",
       " 'https://www.boxofficemojo.com/yearly/chart/?page=5&view=releasedate&view2=domestic&yr=2018&p=.htm',\n",
       " 'https://www.boxofficemojo.com/yearly/chart/?page=6&view=releasedate&view2=domestic&yr=2018&p=.htm',\n",
       " 'https://www.boxofficemojo.com/yearly/chart/?page=2&view=releasedate&view2=domestic&yr=2017&p=.htm',\n",
       " 'https://www.boxofficemojo.com/yearly/chart/?page=3&view=releasedate&view2=domestic&yr=2017&p=.htm',\n",
       " 'https://www.boxofficemojo.com/yearly/chart/?page=4&view=releasedate&view2=domestic&yr=2017&p=.htm',\n",
       " 'https://www.boxofficemojo.com/yearly/chart/?page=5&view=releasedate&view2=domestic&yr=2017&p=.htm',\n",
       " 'https://www.boxofficemojo.com/yearly/chart/?page=6&view=releasedate&view2=domestic&yr=2017&p=.htm',\n",
       " 'https://www.boxofficemojo.com/yearly/chart/?page=7&view=releasedate&view2=domestic&yr=2017&p=.htm',\n",
       " 'https://www.boxofficemojo.com/yearly/chart/?page=8&view=releasedate&view2=domestic&yr=2017&p=.htm',\n",
       " 'https://www.boxofficemojo.com/yearly/chart/?page=2&view=releasedate&view2=domestic&yr=2016&p=.htm',\n",
       " 'https://www.boxofficemojo.com/yearly/chart/?page=3&view=releasedate&view2=domestic&yr=2016&p=.htm',\n",
       " 'https://www.boxofficemojo.com/yearly/chart/?page=4&view=releasedate&view2=domestic&yr=2016&p=.htm',\n",
       " 'https://www.boxofficemojo.com/yearly/chart/?page=5&view=releasedate&view2=domestic&yr=2016&p=.htm',\n",
       " 'https://www.boxofficemojo.com/yearly/chart/?page=6&view=releasedate&view2=domestic&yr=2016&p=.htm',\n",
       " 'https://www.boxofficemojo.com/yearly/chart/?page=7&view=releasedate&view2=domestic&yr=2016&p=.htm',\n",
       " 'https://www.boxofficemojo.com/yearly/chart/?page=8&view=releasedate&view2=domestic&yr=2016&p=.htm',\n",
       " 'https://www.boxofficemojo.com/yearly/chart/?page=2&view=releasedate&view2=domestic&yr=2015&p=.htm',\n",
       " 'https://www.boxofficemojo.com/yearly/chart/?page=3&view=releasedate&view2=domestic&yr=2015&p=.htm',\n",
       " 'https://www.boxofficemojo.com/yearly/chart/?page=4&view=releasedate&view2=domestic&yr=2015&p=.htm',\n",
       " 'https://www.boxofficemojo.com/yearly/chart/?page=5&view=releasedate&view2=domestic&yr=2015&p=.htm',\n",
       " 'https://www.boxofficemojo.com/yearly/chart/?page=6&view=releasedate&view2=domestic&yr=2015&p=.htm',\n",
       " 'https://www.boxofficemojo.com/yearly/chart/?page=7&view=releasedate&view2=domestic&yr=2015&p=.htm',\n",
       " 'https://www.boxofficemojo.com/yearly/chart/?page=8&view=releasedate&view2=domestic&yr=2015&p=.htm',\n",
       " 'https://www.boxofficemojo.com/yearly/chart/?page=2&view=releasedate&view2=domestic&yr=2014&p=.htm',\n",
       " 'https://www.boxofficemojo.com/yearly/chart/?page=3&view=releasedate&view2=domestic&yr=2014&p=.htm',\n",
       " 'https://www.boxofficemojo.com/yearly/chart/?page=4&view=releasedate&view2=domestic&yr=2014&p=.htm',\n",
       " 'https://www.boxofficemojo.com/yearly/chart/?page=5&view=releasedate&view2=domestic&yr=2014&p=.htm',\n",
       " 'https://www.boxofficemojo.com/yearly/chart/?page=6&view=releasedate&view2=domestic&yr=2014&p=.htm',\n",
       " 'https://www.boxofficemojo.com/yearly/chart/?page=7&view=releasedate&view2=domestic&yr=2014&p=.htm',\n",
       " 'https://www.boxofficemojo.com/yearly/chart/?page=8&view=releasedate&view2=domestic&yr=2014&p=.htm',\n",
       " 'https://www.boxofficemojo.com/yearly/chart/?page=2&view=releasedate&view2=domestic&yr=2013&p=.htm',\n",
       " 'https://www.boxofficemojo.com/yearly/chart/?page=3&view=releasedate&view2=domestic&yr=2013&p=.htm',\n",
       " 'https://www.boxofficemojo.com/yearly/chart/?page=4&view=releasedate&view2=domestic&yr=2013&p=.htm',\n",
       " 'https://www.boxofficemojo.com/yearly/chart/?page=5&view=releasedate&view2=domestic&yr=2013&p=.htm',\n",
       " 'https://www.boxofficemojo.com/yearly/chart/?page=6&view=releasedate&view2=domestic&yr=2013&p=.htm',\n",
       " 'https://www.boxofficemojo.com/yearly/chart/?page=7&view=releasedate&view2=domestic&yr=2013&p=.htm',\n",
       " 'https://www.boxofficemojo.com/yearly/chart/?page=2&view=releasedate&view2=domestic&yr=2012&p=.htm',\n",
       " 'https://www.boxofficemojo.com/yearly/chart/?page=3&view=releasedate&view2=domestic&yr=2012&p=.htm',\n",
       " 'https://www.boxofficemojo.com/yearly/chart/?page=4&view=releasedate&view2=domestic&yr=2012&p=.htm',\n",
       " 'https://www.boxofficemojo.com/yearly/chart/?page=5&view=releasedate&view2=domestic&yr=2012&p=.htm',\n",
       " 'https://www.boxofficemojo.com/yearly/chart/?page=6&view=releasedate&view2=domestic&yr=2012&p=.htm',\n",
       " 'https://www.boxofficemojo.com/yearly/chart/?page=7&view=releasedate&view2=domestic&yr=2012&p=.htm',\n",
       " 'https://www.boxofficemojo.com/yearly/chart/?page=2&view=releasedate&view2=domestic&yr=2011&p=.htm',\n",
       " 'https://www.boxofficemojo.com/yearly/chart/?page=3&view=releasedate&view2=domestic&yr=2011&p=.htm',\n",
       " 'https://www.boxofficemojo.com/yearly/chart/?page=4&view=releasedate&view2=domestic&yr=2011&p=.htm',\n",
       " 'https://www.boxofficemojo.com/yearly/chart/?page=5&view=releasedate&view2=domestic&yr=2011&p=.htm',\n",
       " 'https://www.boxofficemojo.com/yearly/chart/?page=6&view=releasedate&view2=domestic&yr=2011&p=.htm',\n",
       " 'https://www.boxofficemojo.com/yearly/chart/?page=7&view=releasedate&view2=domestic&yr=2011&p=.htm',\n",
       " 'https://www.boxofficemojo.com/yearly/chart/?page=2&view=releasedate&view2=domestic&yr=2010&p=.htm',\n",
       " 'https://www.boxofficemojo.com/yearly/chart/?page=3&view=releasedate&view2=domestic&yr=2010&p=.htm',\n",
       " 'https://www.boxofficemojo.com/yearly/chart/?page=4&view=releasedate&view2=domestic&yr=2010&p=.htm',\n",
       " 'https://www.boxofficemojo.com/yearly/chart/?page=5&view=releasedate&view2=domestic&yr=2010&p=.htm',\n",
       " 'https://www.boxofficemojo.com/yearly/chart/?page=6&view=releasedate&view2=domestic&yr=2010&p=.htm',\n",
       " 'https://www.boxofficemojo.com/yearly/chart/?page=2&view=releasedate&view2=domestic&yr=2009&p=.htm',\n",
       " 'https://www.boxofficemojo.com/yearly/chart/?page=3&view=releasedate&view2=domestic&yr=2009&p=.htm',\n",
       " 'https://www.boxofficemojo.com/yearly/chart/?page=4&view=releasedate&view2=domestic&yr=2009&p=.htm',\n",
       " 'https://www.boxofficemojo.com/yearly/chart/?page=5&view=releasedate&view2=domestic&yr=2009&p=.htm',\n",
       " 'https://www.boxofficemojo.com/yearly/chart/?page=6&view=releasedate&view2=domestic&yr=2009&p=.htm',\n",
       " 'https://www.boxofficemojo.com/yearly/chart/?page=2&view=releasedate&view2=domestic&yr=2008&p=.htm',\n",
       " 'https://www.boxofficemojo.com/yearly/chart/?page=3&view=releasedate&view2=domestic&yr=2008&p=.htm',\n",
       " 'https://www.boxofficemojo.com/yearly/chart/?page=4&view=releasedate&view2=domestic&yr=2008&p=.htm',\n",
       " 'https://www.boxofficemojo.com/yearly/chart/?page=5&view=releasedate&view2=domestic&yr=2008&p=.htm',\n",
       " 'https://www.boxofficemojo.com/yearly/chart/?page=6&view=releasedate&view2=domestic&yr=2008&p=.htm',\n",
       " 'https://www.boxofficemojo.com/yearly/chart/?page=7&view=releasedate&view2=domestic&yr=2008&p=.htm',\n",
       " 'https://www.boxofficemojo.com/yearly/chart/?page=2&view=releasedate&view2=domestic&yr=2007&p=.htm',\n",
       " 'https://www.boxofficemojo.com/yearly/chart/?page=3&view=releasedate&view2=domestic&yr=2007&p=.htm',\n",
       " 'https://www.boxofficemojo.com/yearly/chart/?page=4&view=releasedate&view2=domestic&yr=2007&p=.htm',\n",
       " 'https://www.boxofficemojo.com/yearly/chart/?page=5&view=releasedate&view2=domestic&yr=2007&p=.htm',\n",
       " 'https://www.boxofficemojo.com/yearly/chart/?page=6&view=releasedate&view2=domestic&yr=2007&p=.htm',\n",
       " 'https://www.boxofficemojo.com/yearly/chart/?page=7&view=releasedate&view2=domestic&yr=2007&p=.htm',\n",
       " 'https://www.boxofficemojo.com/yearly/chart/?page=2&view=releasedate&view2=domestic&yr=2006&p=.htm',\n",
       " 'https://www.boxofficemojo.com/yearly/chart/?page=3&view=releasedate&view2=domestic&yr=2006&p=.htm',\n",
       " 'https://www.boxofficemojo.com/yearly/chart/?page=4&view=releasedate&view2=domestic&yr=2006&p=.htm',\n",
       " 'https://www.boxofficemojo.com/yearly/chart/?page=5&view=releasedate&view2=domestic&yr=2006&p=.htm',\n",
       " 'https://www.boxofficemojo.com/yearly/chart/?page=6&view=releasedate&view2=domestic&yr=2006&p=.htm',\n",
       " 'https://www.boxofficemojo.com/yearly/chart/?page=7&view=releasedate&view2=domestic&yr=2006&p=.htm',\n",
       " 'https://www.boxofficemojo.com/yearly/chart/?page=2&view=releasedate&view2=domestic&yr=2005&p=.htm',\n",
       " 'https://www.boxofficemojo.com/yearly/chart/?page=3&view=releasedate&view2=domestic&yr=2005&p=.htm',\n",
       " 'https://www.boxofficemojo.com/yearly/chart/?page=4&view=releasedate&view2=domestic&yr=2005&p=.htm',\n",
       " 'https://www.boxofficemojo.com/yearly/chart/?page=5&view=releasedate&view2=domestic&yr=2005&p=.htm',\n",
       " 'https://www.boxofficemojo.com/yearly/chart/?page=6&view=releasedate&view2=domestic&yr=2005&p=.htm',\n",
       " 'https://www.boxofficemojo.com/yearly/chart/?page=2&view=releasedate&view2=domestic&yr=2004&p=.htm',\n",
       " 'https://www.boxofficemojo.com/yearly/chart/?page=3&view=releasedate&view2=domestic&yr=2004&p=.htm',\n",
       " 'https://www.boxofficemojo.com/yearly/chart/?page=4&view=releasedate&view2=domestic&yr=2004&p=.htm',\n",
       " 'https://www.boxofficemojo.com/yearly/chart/?page=5&view=releasedate&view2=domestic&yr=2004&p=.htm',\n",
       " 'https://www.boxofficemojo.com/yearly/chart/?page=6&view=releasedate&view2=domestic&yr=2004&p=.htm',\n",
       " 'https://www.boxofficemojo.com/yearly/chart/?page=2&view=releasedate&view2=domestic&yr=2003&p=.htm',\n",
       " 'https://www.boxofficemojo.com/yearly/chart/?page=3&view=releasedate&view2=domestic&yr=2003&p=.htm',\n",
       " 'https://www.boxofficemojo.com/yearly/chart/?page=4&view=releasedate&view2=domestic&yr=2003&p=.htm',\n",
       " 'https://www.boxofficemojo.com/yearly/chart/?page=5&view=releasedate&view2=domestic&yr=2003&p=.htm',\n",
       " 'https://www.boxofficemojo.com/yearly/chart/?page=6&view=releasedate&view2=domestic&yr=2003&p=.htm',\n",
       " 'https://www.boxofficemojo.com/yearly/chart/?page=2&view=releasedate&view2=domestic&yr=2002&p=.htm',\n",
       " 'https://www.boxofficemojo.com/yearly/chart/?page=3&view=releasedate&view2=domestic&yr=2002&p=.htm',\n",
       " 'https://www.boxofficemojo.com/yearly/chart/?page=4&view=releasedate&view2=domestic&yr=2002&p=.htm',\n",
       " 'https://www.boxofficemojo.com/yearly/chart/?page=5&view=releasedate&view2=domestic&yr=2002&p=.htm',\n",
       " 'https://www.boxofficemojo.com/yearly/chart/?page=2&view=releasedate&view2=domestic&yr=2001&p=.htm',\n",
       " 'https://www.boxofficemojo.com/yearly/chart/?page=3&view=releasedate&view2=domestic&yr=2001&p=.htm',\n",
       " 'https://www.boxofficemojo.com/yearly/chart/?page=4&view=releasedate&view2=domestic&yr=2001&p=.htm',\n",
       " 'https://www.boxofficemojo.com/yearly/chart/?page=2&view=releasedate&view2=domestic&yr=2000&p=.htm',\n",
       " 'https://www.boxofficemojo.com/yearly/chart/?page=3&view=releasedate&view2=domestic&yr=2000&p=.htm',\n",
       " 'https://www.boxofficemojo.com/yearly/chart/?page=4&view=releasedate&view2=domestic&yr=2000&p=.htm',\n",
       " 'https://www.boxofficemojo.com/yearly/chart/?page=2&view=releasedate&view2=domestic&yr=1999&p=.htm',\n",
       " 'https://www.boxofficemojo.com/yearly/chart/?page=3&view=releasedate&view2=domestic&yr=1999&p=.htm',\n",
       " 'https://www.boxofficemojo.com/yearly/chart/?page=4&view=releasedate&view2=domestic&yr=1999&p=.htm',\n",
       " 'https://www.boxofficemojo.com/yearly/chart/?page=2&view=releasedate&view2=domestic&yr=1998&p=.htm',\n",
       " 'https://www.boxofficemojo.com/yearly/chart/?page=3&view=releasedate&view2=domestic&yr=1998&p=.htm',\n",
       " 'https://www.boxofficemojo.com/yearly/chart/?page=4&view=releasedate&view2=domestic&yr=1998&p=.htm',\n",
       " 'https://www.boxofficemojo.com/yearly/chart/?page=2&view=releasedate&view2=domestic&yr=1997&p=.htm',\n",
       " 'https://www.boxofficemojo.com/yearly/chart/?page=3&view=releasedate&view2=domestic&yr=1997&p=.htm',\n",
       " 'https://www.boxofficemojo.com/yearly/chart/?page=4&view=releasedate&view2=domestic&yr=1997&p=.htm',\n",
       " 'https://www.boxofficemojo.com/yearly/chart/?page=2&view=releasedate&view2=domestic&yr=1996&p=.htm',\n",
       " 'https://www.boxofficemojo.com/yearly/chart/?page=3&view=releasedate&view2=domestic&yr=1996&p=.htm',\n",
       " 'https://www.boxofficemojo.com/yearly/chart/?page=4&view=releasedate&view2=domestic&yr=1996&p=.htm',\n",
       " 'https://www.boxofficemojo.com/yearly/chart/?page=2&view=releasedate&view2=domestic&yr=1995&p=.htm',\n",
       " 'https://www.boxofficemojo.com/yearly/chart/?page=3&view=releasedate&view2=domestic&yr=1995&p=.htm',\n",
       " 'https://www.boxofficemojo.com/yearly/chart/?page=2&view=releasedate&view2=domestic&yr=1994&p=.htm',\n",
       " 'https://www.boxofficemojo.com/yearly/chart/?page=3&view=releasedate&view2=domestic&yr=1994&p=.htm',\n",
       " 'https://www.boxofficemojo.com/yearly/chart/?page=2&view=releasedate&view2=domestic&yr=1993&p=.htm',\n",
       " 'https://www.boxofficemojo.com/yearly/chart/?page=3&view=releasedate&view2=domestic&yr=1993&p=.htm',\n",
       " 'https://www.boxofficemojo.com/yearly/chart/?page=2&view=releasedate&view2=domestic&yr=1992&p=.htm',\n",
       " 'https://www.boxofficemojo.com/yearly/chart/?page=3&view=releasedate&view2=domestic&yr=1992&p=.htm',\n",
       " 'https://www.boxofficemojo.com/yearly/chart/?page=2&view=releasedate&view2=domestic&yr=1991&p=.htm',\n",
       " 'https://www.boxofficemojo.com/yearly/chart/?page=3&view=releasedate&view2=domestic&yr=1991&p=.htm',\n",
       " 'https://www.boxofficemojo.com/yearly/chart/?page=2&view=releasedate&view2=domestic&yr=1990&p=.htm',\n",
       " 'https://www.boxofficemojo.com/yearly/chart/?page=3&view=releasedate&view2=domestic&yr=1990&p=.htm',\n",
       " 'https://www.boxofficemojo.com/yearly/chart/?page=2&view=releasedate&view2=domestic&yr=1989&p=.htm',\n",
       " 'https://www.boxofficemojo.com/yearly/chart/?page=3&view=releasedate&view2=domestic&yr=1989&p=.htm',\n",
       " 'https://www.boxofficemojo.com/yearly/chart/?page=2&view=releasedate&view2=domestic&yr=1988&p=.htm',\n",
       " 'https://www.boxofficemojo.com/yearly/chart/?page=3&view=releasedate&view2=domestic&yr=1988&p=.htm',\n",
       " 'https://www.boxofficemojo.com/yearly/chart/?page=2&view=releasedate&view2=domestic&yr=1987&p=.htm',\n",
       " 'https://www.boxofficemojo.com/yearly/chart/?page=3&view=releasedate&view2=domestic&yr=1987&p=.htm',\n",
       " 'https://www.boxofficemojo.com/yearly/chart/?page=2&view=releasedate&view2=domestic&yr=1986&p=.htm',\n",
       " 'https://www.boxofficemojo.com/yearly/chart/?page=3&view=releasedate&view2=domestic&yr=1986&p=.htm',\n",
       " 'https://www.boxofficemojo.com/yearly/chart/?page=2&view=releasedate&view2=domestic&yr=1985&p=.htm',\n",
       " 'https://www.boxofficemojo.com/yearly/chart/?page=2&view=releasedate&view2=domestic&yr=1984&p=.htm',\n",
       " 'https://www.boxofficemojo.com/yearly/chart/?page=2&view=releasedate&view2=domestic&yr=1983&p=.htm',\n",
       " 'https://www.boxofficemojo.com/yearly/chart/?page=2&view=releasedate&view2=domestic&yr=1982&p=.htm',\n",
       " 'https://www.boxofficemojo.com/yearly/chart/?page=2&view=releasedate&view2=domestic&yr=1981&p=.htm',\n",
       " 'https://www.boxofficemojo.com/yearly/chart/?page=2&view=releasedate&view2=domestic&yr=1980&p=.htm']"
      ]
     },
     "execution_count": 43,
     "metadata": {},
     "output_type": "execute_result"
    }
   ],
   "source": [
    "AllYearlyURLs"
   ]
  },
  {
   "cell_type": "code",
   "execution_count": null,
   "metadata": {},
   "outputs": [],
   "source": []
  },
  {
   "cell_type": "code",
   "execution_count": null,
   "metadata": {},
   "outputs": [],
   "source": []
  },
  {
   "cell_type": "code",
   "execution_count": null,
   "metadata": {},
   "outputs": [],
   "source": []
  },
  {
   "cell_type": "code",
   "execution_count": null,
   "metadata": {},
   "outputs": [],
   "source": []
  },
  {
   "cell_type": "code",
   "execution_count": null,
   "metadata": {},
   "outputs": [],
   "source": []
  },
  {
   "cell_type": "code",
   "execution_count": null,
   "metadata": {},
   "outputs": [],
   "source": []
  },
  {
   "cell_type": "code",
   "execution_count": null,
   "metadata": {},
   "outputs": [],
   "source": []
  },
  {
   "cell_type": "code",
   "execution_count": null,
   "metadata": {},
   "outputs": [],
   "source": []
  },
  {
   "cell_type": "code",
   "execution_count": null,
   "metadata": {},
   "outputs": [],
   "source": []
  },
  {
   "cell_type": "code",
   "execution_count": null,
   "metadata": {},
   "outputs": [],
   "source": []
  },
  {
   "cell_type": "code",
   "execution_count": null,
   "metadata": {},
   "outputs": [],
   "source": []
  },
  {
   "cell_type": "code",
   "execution_count": null,
   "metadata": {},
   "outputs": [],
   "source": []
  },
  {
   "cell_type": "code",
   "execution_count": null,
   "metadata": {},
   "outputs": [],
   "source": []
  },
  {
   "cell_type": "code",
   "execution_count": null,
   "metadata": {},
   "outputs": [],
   "source": []
  },
  {
   "cell_type": "code",
   "execution_count": null,
   "metadata": {},
   "outputs": [],
   "source": []
  },
  {
   "cell_type": "code",
   "execution_count": null,
   "metadata": {},
   "outputs": [],
   "source": []
  },
  {
   "cell_type": "code",
   "execution_count": null,
   "metadata": {},
   "outputs": [],
   "source": []
  },
  {
   "cell_type": "code",
   "execution_count": null,
   "metadata": {},
   "outputs": [],
   "source": []
  },
  {
   "cell_type": "code",
   "execution_count": null,
   "metadata": {},
   "outputs": [],
   "source": []
  },
  {
   "cell_type": "code",
   "execution_count": null,
   "metadata": {},
   "outputs": [],
   "source": []
  }
 ],
 "metadata": {
  "kernelspec": {
   "display_name": "Python 3",
   "language": "python",
   "name": "python3"
  },
  "language_info": {
   "codemirror_mode": {
    "name": "ipython",
    "version": 3
   },
   "file_extension": ".py",
   "mimetype": "text/x-python",
   "name": "python",
   "nbconvert_exporter": "python",
   "pygments_lexer": "ipython3",
   "version": "3.6.4"
  }
 },
 "nbformat": 4,
 "nbformat_minor": 2
}
