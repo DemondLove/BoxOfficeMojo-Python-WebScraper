{
 "cells": [
  {
   "cell_type": "markdown",
   "metadata": {},
   "source": [
    "# URL Web Scraper"
   ]
  },
  {
   "cell_type": "code",
   "execution_count": null,
   "metadata": {},
   "outputs": [],
   "source": [
    "Test to scrape the "
   ]
  },
  {
   "cell_type": "code",
   "execution_count": 158,
   "metadata": {},
   "outputs": [],
   "source": [
    "from bs4 import BeautifulSoup\n",
    "\n",
    "import requests"
   ]
  },
  {
   "cell_type": "markdown",
   "metadata": {},
   "source": [
    "Goal:\n",
    "    1. Scrape https://www.boxofficemojo.com/yearly/ ro pull a list of URLs for each Year.\n",
    "    2. Scrape each of those for a top 100 films of each year URL\n",
    "    3. Also Scrape each of those for the yearly footer information for those URLs\n",
    "    4. Then Scrape the yearly footer information URLs for the rest of each film of each year."
   ]
  },
  {
   "cell_type": "code",
   "execution_count": null,
   "metadata": {},
   "outputs": [],
   "source": [
    "So, how does that looks?\n",
    "1. Master scrape into a list of URLs for each Year, called YearlyTop100s.\n",
    "2. Loop over that list and return another list the Footer URLs for each Year, called YearlyNonTop100s.\n",
    "3. Append the two lists together (YearlyTop100s & YearlyNonTop100s), called AllYearlyURLs.\n",
    "5. Loop over every AllYearlyURLs, to pull another list called MasterURLs.\n",
    "6. Loop over this MasterURLs list and append data onto a master DataFrame, which will make up a BoxOfficeMojo database.."
   ]
  },
  {
   "cell_type": "code",
   "execution_count": 159,
   "metadata": {},
   "outputs": [],
   "source": [
    "page = requests.get('https://www.boxofficemojo.com/yearly/chart/?yr=1980&p=.htm')"
   ]
  },
  {
   "cell_type": "code",
   "execution_count": 160,
   "metadata": {},
   "outputs": [],
   "source": [
    "soup = BeautifulSoup(page.content, 'lxml')"
   ]
  },
  {
   "cell_type": "code",
   "execution_count": 161,
   "metadata": {},
   "outputs": [],
   "source": [
    "body = soup.find('table', cellpadding='5')"
   ]
  },
  {
   "cell_type": "code",
   "execution_count": 162,
   "metadata": {},
   "outputs": [],
   "source": [
    "urls_rows = body.find_all('tr', bgcolor='#ffffff')"
   ]
  },
  {
   "cell_type": "code",
   "execution_count": 163,
   "metadata": {},
   "outputs": [],
   "source": [
    "li = []\n",
    "for tr in urls_rows:\n",
    "    td = tr.find_all('a')\n",
    "    for i in td:\n",
    "        li.append(i.get('href'))"
   ]
  },
  {
   "cell_type": "code",
   "execution_count": 164,
   "metadata": {},
   "outputs": [],
   "source": [
    "urls_rows = body.find_all('tr', bgcolor='#f4f4ff')"
   ]
  },
  {
   "cell_type": "code",
   "execution_count": 165,
   "metadata": {},
   "outputs": [],
   "source": [
    "lis = []\n",
    "for tr in urls_rows:\n",
    "    td = tr.find_all('a')\n",
    "    for i in td:\n",
    "        lis.append(i.get('href'))"
   ]
  },
  {
   "cell_type": "code",
   "execution_count": 166,
   "metadata": {},
   "outputs": [
    {
     "data": {
      "text/plain": [
       "149"
      ]
     },
     "execution_count": 166,
     "metadata": {},
     "output_type": "execute_result"
    }
   ],
   "source": [
    "len(li)"
   ]
  },
  {
   "cell_type": "code",
   "execution_count": 167,
   "metadata": {},
   "outputs": [],
   "source": [
    "movies = []\n",
    "for i in range(0, len(li)-1):\n",
    "    if 'movies' in li[i]:\n",
    "        movies.append(li[i])"
   ]
  },
  {
   "cell_type": "code",
   "execution_count": 168,
   "metadata": {},
   "outputs": [],
   "source": [
    "for i in range(0, len(lis)-1):\n",
    "    if 'movies' in lis[i]:\n",
    "        movies.append(lis[i])"
   ]
  },
  {
   "cell_type": "code",
   "execution_count": 169,
   "metadata": {},
   "outputs": [],
   "source": [
    "for i in range(0, len(movies)-1):\n",
    "    movies[i] = 'https://www.boxofficemojo.com'+ movies[i]"
   ]
  },
  {
   "cell_type": "code",
   "execution_count": 170,
   "metadata": {},
   "outputs": [
    {
     "data": {
      "text/plain": [
       "100"
      ]
     },
     "execution_count": 170,
     "metadata": {},
     "output_type": "execute_result"
    }
   ],
   "source": [
    "len(movies)"
   ]
  },
  {
   "cell_type": "code",
   "execution_count": 171,
   "metadata": {},
   "outputs": [],
   "source": [
    "footer = soup.find('center')"
   ]
  },
  {
   "cell_type": "code",
   "execution_count": 172,
   "metadata": {},
   "outputs": [],
   "source": [
    "footer_url_rows = footer.find_all('a')"
   ]
  },
  {
   "cell_type": "code",
   "execution_count": 173,
   "metadata": {},
   "outputs": [],
   "source": [
    "yearly = []\n",
    "for i in footer_url_rows:\n",
    "    yearly.append(i.get('href'))"
   ]
  },
  {
   "cell_type": "code",
   "execution_count": 174,
   "metadata": {},
   "outputs": [],
   "source": [
    "if len(yearly) == 1:\n",
    "    yearly[0] = 'https://www.boxofficemojo.com'+ yearly[0]\n",
    "else:\n",
    "    for i in range(0, len(yearly)-1):\n",
    "        yearly[i] = 'https://www.boxofficemojo.com'+ yearly[i]"
   ]
  },
  {
   "cell_type": "code",
   "execution_count": 175,
   "metadata": {},
   "outputs": [
    {
     "data": {
      "text/plain": [
       "['https://www.boxofficemojo.com/yearly/chart/?page=2&view=releasedate&view2=domestic&yr=1980&p=.htm']"
      ]
     },
     "execution_count": 175,
     "metadata": {},
     "output_type": "execute_result"
    }
   ],
   "source": [
    "yearly"
   ]
  }
 ],
 "metadata": {
  "kernelspec": {
   "display_name": "Python 3",
   "language": "python",
   "name": "python3"
  },
  "language_info": {
   "codemirror_mode": {
    "name": "ipython",
    "version": 3
   },
   "file_extension": ".py",
   "mimetype": "text/x-python",
   "name": "python",
   "nbconvert_exporter": "python",
   "pygments_lexer": "ipython3",
   "version": "3.6.4"
  }
 },
 "nbformat": 4,
 "nbformat_minor": 2
}
