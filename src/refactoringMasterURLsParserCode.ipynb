{
 "cells": [
  {
   "cell_type": "code",
   "execution_count": 17,
   "metadata": {},
   "outputs": [
    {
     "name": "stdout",
     "output_type": "stream",
     "text": [
      "134.7142789363861\n"
     ]
    }
   ],
   "source": [
    "# BoxOfficeMojo Python WebScraper Master Script\n",
    "import time\n",
    "\n",
    "start = time.time()\n",
    "\n",
    "# if __name__ == '__main__':\n",
    "import sys\n",
    "import os\n",
    "import inspect\n",
    "import pandas as pd\n",
    "\n",
    "# A long winded way of adding the utils directory to the sys.path.\n",
    "# This makes the assumption the utils directory is a subfolder of the current directory.\n",
    "# However, this does not make any assumptions about where the current directory is.\n",
    "filename = inspect.getframeinfo(inspect.currentframe()).filename\n",
    "curpath = os.path.dirname(os.path.abspath(filename))\n",
    "sys.path.insert(0, curpath + '/utils')\n",
    "\n",
    "# Import custom functions\n",
    "import utils\n",
    "\n",
    "# Saving the pre-determined starting point for the site\n",
    "homeDirectory = 'https://www.boxofficemojo.com/yearly/'\n",
    "\n",
    "MasterURLs = utils.MasterURLsparser(homeDirectory)\n",
    "end = time.time()\n",
    "print(end - start)"
   ]
  },
  {
   "cell_type": "code",
   "execution_count": 19,
   "metadata": {},
   "outputs": [
    {
     "data": {
      "text/plain": [
       "16332"
      ]
     },
     "execution_count": 19,
     "metadata": {},
     "output_type": "execute_result"
    }
   ],
   "source": [
    "len(MasterURLs) # Returns list of URLS, 16,332"
   ]
  },
  {
   "cell_type": "code",
   "execution_count": 6,
   "metadata": {},
   "outputs": [],
   "source": [
    "# from bs4 import BeautifulSoup\n",
    "\n",
    "# import requests"
   ]
  },
  {
   "cell_type": "code",
   "execution_count": 10,
   "metadata": {},
   "outputs": [],
   "source": [
    "# page = requests.get(homeDirectory)"
   ]
  },
  {
   "cell_type": "code",
   "execution_count": 11,
   "metadata": {},
   "outputs": [
    {
     "data": {
      "text/plain": [
       "<Response [200]>"
      ]
     },
     "execution_count": 11,
     "metadata": {},
     "output_type": "execute_result"
    }
   ],
   "source": [
    "# # def downloadhtml(url):\n",
    "# try:\n",
    "#     page = requests.get(url)\n",
    "#     if 'Sorry, we\\'re not able to process your request.' in BeautifulSoup(page.content, 'lxml').find('div', id='main').find('p'):\n",
    "#         return None\n",
    "#     elif 'chart' in url:\n",
    "#         return None\n",
    "#     elif '..' in url:\n",
    "#         return None\n",
    "#     else:\n",
    "#         soup = BeautifulSoup(page.content, 'lxml')\n",
    "#         return soup\n",
    "# except Exception as e:\n",
    "#     return 'ErrorCode' + ' ' + str(e)"
   ]
  },
  {
   "cell_type": "code",
   "execution_count": null,
   "metadata": {},
   "outputs": [
    {
     "name": "stdout",
     "output_type": "stream",
     "text": [
      "1/16332 - 5.93 seconds\n",
      "2/16332 - 12.59 seconds\n",
      "3/16332 - 18.27 seconds\n",
      "4/16332 - 24.91 seconds\n",
      "5/16332 - 30.15 seconds\n",
      "6/16332 - 35.12 seconds\n",
      "7/16332 - 40.25 seconds\n",
      "8/16332 - 45.74 seconds\n",
      "9/16332 - 50.86 seconds\n",
      "10/16332 - 56.01 seconds\n",
      "11/16332 - 61.39 seconds\n",
      "12/16332 - 66.63 seconds\n",
      "13/16332 - 71.59 seconds\n",
      "14/16332 - 76.79 seconds\n",
      "15/16332 - 81.65 seconds\n",
      "16/16332 - 86.65 seconds\n",
      "17/16332 - 91.54 seconds\n",
      "18/16332 - 96.53 seconds\n",
      "19/16332 - 101.78 seconds\n",
      "20/16332 - 107.07 seconds\n",
      "21/16332 - 112.04 seconds\n",
      "22/16332 - 117.31 seconds\n",
      "23/16332 - 123.31 seconds\n",
      "24/16332 - 128.5 seconds\n",
      "25/16332 - 133.68 seconds\n",
      "26/16332 - 139.86 seconds\n",
      "27/16332 - 146.96 seconds\n",
      "28/16332 - 152.21 seconds\n",
      "29/16332 - 157.24 seconds\n",
      "30/16332 - 163.37 seconds\n",
      "31/16332 - 169.54 seconds\n",
      "32/16332 - 175.94 seconds\n",
      "33/16332 - 181.85 seconds\n",
      "34/16332 - 187.34 seconds\n",
      "35/16332 - 192.53 seconds\n",
      "36/16332 - 198.76 seconds\n",
      "37/16332 - 203.98 seconds\n",
      "38/16332 - 209.43 seconds\n",
      "39/16332 - 214.53 seconds\n",
      "40/16332 - 219.75 seconds\n",
      "41/16332 - 225.01 seconds\n",
      "42/16332 - 230.18 seconds\n",
      "43/16332 - 235.25 seconds\n",
      "44/16332 - 241.42 seconds\n",
      "45/16332 - 246.44 seconds\n",
      "46/16332 - 251.21 seconds\n",
      "47/16332 - 256.09 seconds\n",
      "48/16332 - 261.01 seconds\n",
      "49/16332 - 267.44 seconds\n",
      "50/16332 - 273.01 seconds\n",
      "51/16332 - 278.24 seconds\n",
      "52/16332 - 283.7 seconds\n",
      "53/16332 - 289.19 seconds\n",
      "54/16332 - 294.89 seconds\n",
      "55/16332 - 300.13 seconds\n",
      "56/16332 - 305.55 seconds\n",
      "57/16332 - 312.08 seconds\n",
      "58/16332 - 317.84 seconds\n",
      "59/16332 - 322.93 seconds\n",
      "60/16332 - 328.21 seconds\n",
      "61/16332 - 333.2 seconds\n",
      "62/16332 - 338.85 seconds\n",
      "63/16332 - 343.9 seconds\n",
      "64/16332 - 348.88 seconds\n",
      "65/16332 - 353.85 seconds\n",
      "66/16332 - 358.74 seconds\n",
      "67/16332 - 363.74 seconds\n",
      "68/16332 - 369.21 seconds\n",
      "69/16332 - 374.01 seconds\n",
      "70/16332 - 378.99 seconds\n",
      "71/16332 - 385.06 seconds\n",
      "72/16332 - 390.3 seconds\n",
      "73/16332 - 395.21 seconds\n",
      "74/16332 - 400.23 seconds\n",
      "75/16332 - 405.09 seconds\n",
      "76/16332 - 410.2 seconds\n",
      "77/16332 - 416.74 seconds\n",
      "78/16332 - 421.57 seconds\n",
      "79/16332 - 426.57 seconds\n",
      "80/16332 - 431.47 seconds\n",
      "81/16332 - 436.38 seconds\n",
      "82/16332 - 441.2 seconds\n",
      "83/16332 - 446.22 seconds\n",
      "84/16332 - 451.39 seconds\n",
      "85/16332 - 456.21 seconds\n",
      "86/16332 - 461.2 seconds\n",
      "87/16332 - 467.46 seconds\n",
      "88/16332 - 472.33 seconds\n",
      "89/16332 - 477.9 seconds\n",
      "90/16332 - 482.75 seconds\n",
      "91/16332 - 487.92 seconds\n",
      "92/16332 - 492.98 seconds\n",
      "93/16332 - 498.16 seconds\n",
      "94/16332 - 503.02 seconds\n",
      "95/16332 - 510.58 seconds\n",
      "96/16332 - 515.59 seconds\n",
      "97/16332 - 520.8 seconds\n"
     ]
    }
   ],
   "source": [
    "# BoxOfficeMojo Python WebScraper Master Script\n",
    "\n",
    "# if __name__ == '__main__':\n",
    "import sys\n",
    "import os\n",
    "import inspect\n",
    "import pandas as pd\n",
    "\n",
    "filename = inspect.getframeinfo(inspect.currentframe()).filename\n",
    "curpath = os.path.dirname(os.path.abspath(filename))\n",
    "sys.path.insert(0, curpath + '/utils')\n",
    "\n",
    "import utils\n",
    "\n",
    "HomeDirectory = 'https://www.boxofficemojo.com/yearly/'\n",
    "\n",
    "#     MasterURLs = utils.MasterURLsparser(HomeDirectory)\n",
    "\n",
    "df = pd.DataFrame()\n",
    "\n",
    "import time\n",
    "start = time.time()\n",
    "\n",
    "for url in MasterURLs:\n",
    "    df = df.append(\n",
    "        {\n",
    "            'Title': utils.titleparser(url)\n",
    "            , 'Distributor': utils.distributorparser(url)\n",
    "            , 'Genre': utils.genreparser(url)\n",
    "            , 'MPAA Rating': utils.mpaaratingparser(url)\n",
    "            , 'Production Budget': utils.productionbudgetparser(url)\n",
    "            , 'Release Date': utils.releasedateparser(url)\n",
    "            , 'Runtime': utils.runtimeparser(url)\n",
    "            , 'Domestic': utils.domesticparser(url)\n",
    "            , 'Foreign': utils.foreignparser(url)\n",
    "            , 'Worldwide': utils.worldwideparser(url)\n",
    "            , 'Opening Weekend Gross': utils.openingweekendgrossparser(url)\n",
    "            , 'Opening Weekend Theaters': utils.openingweekendtheatersparser(url)\n",
    "            , 'Widest Theaters': utils.widestreleaseparser(url)\n",
    "            # , 'Director': utils.directorparser(url)\n",
    "            # , 'Writer': utils.writerparser(url)\n",
    "            # , 'Actors': utils.actorparser(url)\n",
    "            # , 'Producer': utils.producerparser(url)\n",
    "            # , 'Composer': utils.composerparser(url)\n",
    "            , 'Genres': utils.genresparser(url)\n",
    "            , 'URL': str(url)\n",
    "        }, ignore_index=True\n",
    "    )\n",
    "    end = time.time()\n",
    "\n",
    "    print(str(len(df)) + '/' + str(len(MasterURLs)) + ' - ' + str(round(end - start, 2)) + ' seconds')\n",
    "        \n",
    "#     df.to_csv(curpath + '/data/BoxOfficeMojoDataset.csv')"
   ]
  }
 ],
 "metadata": {
  "kernelspec": {
   "display_name": "Python 3",
   "language": "python",
   "name": "python3"
  },
  "language_info": {
   "codemirror_mode": {
    "name": "ipython",
    "version": 3
   },
   "file_extension": ".py",
   "mimetype": "text/x-python",
   "name": "python",
   "nbconvert_exporter": "python",
   "pygments_lexer": "ipython3",
   "version": "3.6.6"
  }
 },
 "nbformat": 4,
 "nbformat_minor": 2
}
