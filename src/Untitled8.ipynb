{
 "cells": [
  {
   "cell_type": "code",
   "execution_count": 2,
   "metadata": {},
   "outputs": [],
   "source": [
    "import sys\n",
    "import os\n",
    "import inspect\n",
    "from imp import reload\n",
    "import pandas as pd\n",
    "\n",
    "filename = inspect.getframeinfo(inspect.currentframe()).filename\n",
    "curpath = os.path.dirname(os.path.abspath(filename))\n",
    "sys.path.insert(0, curpath + '/utils')\n",
    "\n",
    "import utils"
   ]
  },
  {
   "cell_type": "code",
   "execution_count": 4,
   "metadata": {},
   "outputs": [],
   "source": [
    "HomeDirectory = 'https://www.boxofficemojo.com/yearly/'\n",
    "\n",
    "MasterURLs = utils.MasterURLsparser(HomeDirectory)"
   ]
  },
  {
   "cell_type": "code",
   "execution_count": 31,
   "metadata": {},
   "outputs": [
    {
     "data": {
      "text/plain": [
       "<module 'utils' from '/Users/Love/Documents/Projects/BoxOfficeMojo-Python-WebScraper/src/utils/utils.py'>"
      ]
     },
     "execution_count": 31,
     "metadata": {},
     "output_type": "execute_result"
    }
   ],
   "source": [
    "MasterURLBatch = MasterURLs[14534:]\n",
    "reload(utils)"
   ]
  },
  {
   "cell_type": "code",
   "execution_count": 32,
   "metadata": {},
   "outputs": [
    {
     "name": "stdout",
     "output_type": "stream",
     "text": [
      "14534 https://www.boxofficemojo.com/movies/?id=cheechandchongscorsicanbros..htm\n",
      "14535 https://www.boxofficemojo.com/movies/?id=brotherfromanotherplanet.htm\n",
      "14536 https://www.boxofficemojo.com/movies/?id=crimesofpassion.htm\n",
      "14537 https://www.boxofficemojo.com/movies/?id=pharlap.htm\n",
      "14538 https://www.boxofficemojo.com/movies/?id=bear84.htm\n",
      "14539 https://www.boxofficemojo.com/movies/?id=silentnightdeadlynight.htm\n",
      "14540 https://www.boxofficemojo.com/movies/?id=strangerthanparadise.htm\n",
      "14541 https://www.boxofficemojo.com/movies/?id=electricdreams.htm\n",
      "14542 https://www.boxofficemojo.com/movies/?id=purplehearts.htm\n",
      "14543 https://www.boxofficemojo.com/movies/?id=buddysystem.htm\n",
      "14544 https://www.boxofficemojo.com/movies/?id=misunderstood.htm\n",
      "14545 https://www.boxofficemojo.com/movies/?id=finderskeepers.htm\n",
      "14546 https://www.boxofficemojo.com/movies/?id=escape2000.htm\n",
      "14547 https://www.boxofficemojo.com/movies/?id=givemyregardstobroadst.htm\n",
      "14548 https://www.boxofficemojo.com/movies/?id=christmasstory84.htm\n",
      "14549 https://www.boxofficemojo.com/movies/?id=mikesmurder.htm\n",
      "14550 https://www.boxofficemojo.com/movies/?id=bostonians.htm\n",
      "14551 https://www.boxofficemojo.com/movies/?id=songwriter.htm\n",
      "14552 https://www.boxofficemojo.com/movies/?id=windycity.htm\n",
      "14553 https://www.boxofficemojo.com/movies/?id=champions.htm\n",
      "14554 https://www.boxofficemojo.com/movies/?id=heartbreakers84.htm\n",
      "14555 https://www.boxofficemojo.com/movies/?id=repoman.htm\n",
      "14556 https://www.boxofficemojo.com/movies/?id=slayground.htm\n",
      "14557 https://www.boxofficemojo.com/movies/?id=metalstorm.htm\n",
      "14558 https://www.boxofficemojo.com/movies/?id=eddieandthecruisers.htm\n",
      "14559 https://www.boxofficemojo.com/movies/?id=mortuary.htm\n",
      "14560 https://www.boxofficemojo.com/movies/?id=yellowbeard.htm\n",
      "14561 https://www.boxofficemojo.com/movies/?id=joysticks.htm\n",
      "14562 https://www.boxofficemojo.com/movies/?id=latraviata.htm\n",
      "14563 https://www.boxofficemojo.com/movies/?id=runningbrave.htm\n",
      "14564 https://www.boxofficemojo.com/movies/?id=finaloption.htm\n",
      "14565 https://www.boxofficemojo.com/movies/?id=rumblefish.htm\n",
      "14566 https://www.boxofficemojo.com/movies/?id=tableforfive.htm\n",
      "14567 https://www.boxofficemojo.com/movies/?id=evildead.htm\n",
      "14568 https://www.boxofficemojo.com/movies/?id=merrychristmasmrlawrence.htm\n",
      "14569 https://www.boxofficemojo.com/movies/?id=nightoftheshootingstars.htm\n",
      "14570 https://www.boxofficemojo.com/movies/?id=friday13th383.htm\n",
      "14571 https://www.boxofficemojo.com/movies/?id=testament.htm\n",
      "14572 https://www.boxofficemojo.com/movies/?id=nateandhayes.htm\n",
      "14573 https://www.boxofficemojo.com/movies/?id=heatanddust.htm\n",
      "14574 https://www.boxofficemojo.com/movies/?id=stryker.htm\n",
      "14575 https://www.boxofficemojo.com/movies/?id=lianna.htm\n",
      "14576 https://www.boxofficemojo.com/movies/?id=eddiemaconsrun.htm\n",
      "14577 https://www.boxofficemojo.com/movies/?id=lonelylady.htm\n",
      "14578 https://www.boxofficemojo.com/movies/?id=sayamensomebody.htm\n",
      "14579 https://www.boxofficemojo.com/movies/?id=gettingiton.htm\n",
      "14580 https://www.boxofficemojo.com/movies/?id=enigma83.htm\n",
      "14581 https://www.boxofficemojo.com/movies/?id=balladofgregoriocortez.htm\n",
      "14582 https://www.boxofficemojo.com/movies/?id=lonelyhearts83.htm\n",
      "14583 https://www.boxofficemojo.com/movies/?id=wickedlady.htm\n",
      "14584 https://www.boxofficemojo.com/movies/?id=daniel.htm\n",
      "14585 https://www.boxofficemojo.com/movies/?id=streamers.htm\n",
      "14586 https://www.boxofficemojo.com/movies/?id=boardingschool.htm\n",
      "14587 https://www.boxofficemojo.com/movies/?id=pubertyblues.htm\n",
      "14588 https://www.boxofficemojo.com/movies/?id=rockandrule.htm\n",
      "14589 https://www.boxofficemojo.com/movies/?id=vigilante.htm\n",
      "14590 https://www.boxofficemojo.com/movies/?id=curseofthepinkpanther.htm\n",
      "14591 https://www.boxofficemojo.com/movies/?id=trenchcoat.htm\n",
      "14592 https://www.boxofficemojo.com/movies/?id=keep.htm\n",
      "14593 https://www.boxofficemojo.com/movies/?id=letsspendthenighttogether.htm\n",
      "14594 https://www.boxofficemojo.com/movies/?id=returnofmartinguerre.htm\n",
      "14595 https://www.boxofficemojo.com/movies/?id=yor.htm\n",
      "14596 https://www.boxofficemojo.com/movies/?id=kingofcomedy.htm\n",
      "14597 https://www.boxofficemojo.com/movies/?id=manwhowasntthere83.htm\n",
      "14598 https://www.boxofficemojo.com/movies/?id=toughenough.htm\n",
      "14599 https://www.boxofficemojo.com/movies/?id=manwomanandchild.htm\n",
      "14600 https://www.boxofficemojo.com/movies/?id=draughtsmanscontract.htm\n",
      "14601 https://www.boxofficemojo.com/movies/?id=videodrome.htm\n",
      "14602 https://www.boxofficemojo.com/movies/?id=screwballs.htm\n",
      "14603 https://www.boxofficemojo.com/movies/?id=pieces.htm\n",
      "14604 https://www.boxofficemojo.com/movies/?id=babyitsyou.htm\n",
      "14605 https://www.boxofficemojo.com/movies/?id=koyaanisqatsi.htm\n",
      "14606 https://www.boxofficemojo.com/movies/?id=getcrazy.htm\n",
      "14607 https://www.boxofficemojo.com/movies/?id=strangeinvaders.htm\n",
      "14608 https://www.boxofficemojo.com/movies/?id=losinit.htm\n",
      "14609 https://www.boxofficemojo.com/movies/?id=possession83.htm\n",
      "14610 https://www.boxofficemojo.com/movies/?id=ofunknownorigin.htm\n",
      "14611 https://www.boxofficemojo.com/movies/?id=rocky383.htm\n",
      "14612 https://www.boxofficemojo.com/movies/?id=overthebrooklynbridge.htm\n",
      "14613 https://www.boxofficemojo.com/movies/?id=letoiledunord.htm\n",
      "14614 https://www.boxofficemojo.com/movies/?id=fireandice.htm\n",
      "14615 https://www.boxofficemojo.com/movies/?id=piratesofpenzance.htm\n",
      "14616 https://www.boxofficemojo.com/movies/?id=poltergeist83.htm\n",
      "14617 https://www.boxofficemojo.com/movies/?id=britanniahospital.htm\n",
      "14618 https://www.boxofficemojo.com/movies/?id=heartlikeawheel.htm\n",
      "14619 https://www.boxofficemojo.com/movies/?id=girlwithredhair.htm\n",
      "14620 https://www.boxofficemojo.com/movies/?id=eyesofastranger.htm\n",
      "14621 https://www.boxofficemojo.com/movies/?id=herbiemontecarlo81.htm\n",
      "14622 https://www.boxofficemojo.com/movies/?id=beyondthereef.htm\n",
      "14623 https://www.boxofficemojo.com/movies/?id=hardcountry.htm\n",
      "14624 https://www.boxofficemojo.com/movies/?id=kelly.htm\n",
      "14625 https://www.boxofficemojo.com/movies/?id=seawolves.htm\n",
      "14626 https://www.boxofficemojo.com/movies/?id=glenorglenda.htm\n",
      "14627 https://www.boxofficemojo.com/movies/?id=herbiegoesbananas80.htm\n",
      "14628 https://www.boxofficemojo.com/movies/?id=sundaylovers.htm\n",
      "14629 https://www.boxofficemojo.com/movies/?id=cattleannieandlittlebritches.htm\n",
      "14630 https://www.boxofficemojo.com/movies/?id=manofiron.htm\n",
      "14631 https://www.boxofficemojo.com/movies/?id=freakyfriday81.htm\n",
      "14632 https://www.boxofficemojo.com/movies/?id=second-handhearts.htm\n",
      "14633 https://www.boxofficemojo.com/movies/?id=gildalive.htm\n",
      "14634 https://www.boxofficemojo.com/movies/?id=justtellmewhatyouwant.htm\n",
      "14635 https://www.boxofficemojo.com/movies/?id=carny.htm\n",
      "14636 https://www.boxofficemojo.com/movies/?id=whywouldilie.htm\n",
      "14637 https://www.boxofficemojo.com/movies/?id=heartbeat.htm\n",
      "14638 https://www.boxofficemojo.com/movies/?id=thoselipsthoseeyes.htm\n",
      "14639 https://www.boxofficemojo.com/movies/?id=leoandloree.htm\n",
      "14640 https://www.boxofficemojo.com/movies/?id=phobia.htm\n",
      "14641 https://www.boxofficemojo.com/movies/?id=windows.htm\n",
      "14642 https://www.boxofficemojo.com/movies/?id=bonvoyagecharliebrown.htm\n",
      "14643 https://www.boxofficemojo.com/movies/?id=whenastrangercalls80.htm\n",
      "14644 https://www.boxofficemojo.com/movies/?id=nijinsky80.htm\n",
      "14645 https://www.boxofficemojo.com/movies/?id=onetrickpony.htm\n",
      "14646 https://www.boxofficemojo.com/movies/?id=smallcircleoffriends.htm\n",
      "14647 https://www.boxofficemojo.com/movies/?id=homemovies.htm\n",
      "14648 https://www.boxofficemojo.com/movies/?id=breakingglass.htm\n"
     ]
    }
   ],
   "source": [
    "# df = pd.DataFrame()\n",
    "\n",
    "for url in MasterURLBatch:\n",
    "    df = df.append(\n",
    "        {\n",
    "            'Title': utils.titleparser(url)\n",
    "            , 'Distributor': utils.distributorparser(url)\n",
    "            , 'Genre': utils.genreparser(url)\n",
    "            , 'MPAA Rating': utils.mpaaratingparser(url)\n",
    "            , 'Production Budget': utils.productionbudgetparser(url)\n",
    "            , 'Release Date': utils.releasedateparser(url)\n",
    "            , 'Runtime': utils.runtimeparser(url)\n",
    "            , 'Domestic': utils.domesticparser(url)\n",
    "            , 'Foreign': utils.foreignparser(url)\n",
    "            , 'Worldwide': utils.worldwideparser(url)\n",
    "            , 'Opening Weekend Gross': utils.openingweekendgrossparser(url)\n",
    "            , 'Opening Weekend Theaters': utils.openingweekendtheatersparser(url)\n",
    "            , 'Widest Theaters': utils.widestreleaseparser(url)\n",
    "            # , 'Director': utils.directorparser(url)\n",
    "            # , 'Writer': utils.writerparser(url)\n",
    "            # , 'Actors': utils.actorparser(url)\n",
    "            # , 'Producer': utils.producerparser(url)\n",
    "            # , 'Composer': utils.composerparser(url)\n",
    "            , 'Genres': utils.genresparser(url)\n",
    "            , 'URL': str(url)\n",
    "        }, ignore_index=True\n",
    "    )\n",
    "    print(str(df.index.values[-1]) + ' ' + str(url))"
   ]
  },
  {
   "cell_type": "code",
   "execution_count": 34,
   "metadata": {},
   "outputs": [],
   "source": [
    "df.to_csv(curpath + '/data/BoxOfficeMojoDataset.csv')"
   ]
  },
  {
   "cell_type": "code",
   "execution_count": 29,
   "metadata": {},
   "outputs": [
    {
     "data": {
      "text/plain": [
       "'https://www.boxofficemojo.com/movies/?id=cheechandchongscorsicanbros..htm'"
      ]
     },
     "execution_count": 29,
     "metadata": {},
     "output_type": "execute_result"
    }
   ],
   "source": [
    "MasterURLs[14534]"
   ]
  },
  {
   "cell_type": "code",
   "execution_count": 30,
   "metadata": {},
   "outputs": [
    {
     "name": "stdout",
     "output_type": "stream",
     "text": [
      "https://www.boxofficemojo.com/movies/?id=cheechandchongscorsicanbros..htm\n"
     ]
    }
   ],
   "source": [
    "for x in MasterURLBatch:\n",
    "    if '..' in x:\n",
    "        print(x)"
   ]
  },
  {
   "cell_type": "code",
   "execution_count": 33,
   "metadata": {},
   "outputs": [
    {
     "data": {
      "text/plain": [
       "14649"
      ]
     },
     "execution_count": 33,
     "metadata": {},
     "output_type": "execute_result"
    }
   ],
   "source": [
    "len(df)"
   ]
  },
  {
   "cell_type": "code",
   "execution_count": null,
   "metadata": {},
   "outputs": [],
   "source": []
  },
  {
   "cell_type": "code",
   "execution_count": null,
   "metadata": {},
   "outputs": [],
   "source": []
  },
  {
   "cell_type": "code",
   "execution_count": null,
   "metadata": {},
   "outputs": [],
   "source": []
  },
  {
   "cell_type": "code",
   "execution_count": null,
   "metadata": {},
   "outputs": [],
   "source": []
  },
  {
   "cell_type": "code",
   "execution_count": null,
   "metadata": {},
   "outputs": [],
   "source": []
  },
  {
   "cell_type": "code",
   "execution_count": null,
   "metadata": {},
   "outputs": [],
   "source": []
  },
  {
   "cell_type": "code",
   "execution_count": null,
   "metadata": {},
   "outputs": [],
   "source": []
  },
  {
   "cell_type": "code",
   "execution_count": null,
   "metadata": {},
   "outputs": [],
   "source": []
  },
  {
   "cell_type": "code",
   "execution_count": null,
   "metadata": {},
   "outputs": [],
   "source": []
  },
  {
   "cell_type": "code",
   "execution_count": null,
   "metadata": {},
   "outputs": [],
   "source": []
  },
  {
   "cell_type": "code",
   "execution_count": null,
   "metadata": {},
   "outputs": [],
   "source": []
  },
  {
   "cell_type": "code",
   "execution_count": null,
   "metadata": {},
   "outputs": [],
   "source": []
  },
  {
   "cell_type": "code",
   "execution_count": null,
   "metadata": {},
   "outputs": [],
   "source": []
  },
  {
   "cell_type": "code",
   "execution_count": null,
   "metadata": {},
   "outputs": [],
   "source": []
  }
 ],
 "metadata": {
  "kernelspec": {
   "display_name": "Python 3",
   "language": "python",
   "name": "python3"
  },
  "language_info": {
   "codemirror_mode": {
    "name": "ipython",
    "version": 3
   },
   "file_extension": ".py",
   "mimetype": "text/x-python",
   "name": "python",
   "nbconvert_exporter": "python",
   "pygments_lexer": "ipython3",
   "version": "3.6.4"
  }
 },
 "nbformat": 4,
 "nbformat_minor": 2
}
