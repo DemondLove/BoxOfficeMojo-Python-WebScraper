{
 "cells": [
  {
   "cell_type": "code",
   "execution_count": 1,
   "metadata": {},
   "outputs": [
    {
     "name": "stderr",
     "output_type": "stream",
     "text": [
      "/anaconda3/lib/python3.6/site-packages/requests/__init__.py:80: RequestsDependencyWarning: urllib3 (1.22) or chardet (2.3.0) doesn't match a supported version!\n",
      "  RequestsDependencyWarning)\n"
     ]
    }
   ],
   "source": [
    "import sys\n",
    "import os\n",
    "import inspect\n",
    "from imp import reload\n",
    "import pandas as pd\n",
    "\n",
    "filename = inspect.getframeinfo(inspect.currentframe()).filename\n",
    "curpath = os.path.dirname(os.path.abspath(filename))\n",
    "sys.path.insert(0, curpath + '/utils')\n",
    "\n",
    "import utils"
   ]
  },
  {
   "cell_type": "code",
   "execution_count": 2,
   "metadata": {},
   "outputs": [],
   "source": [
    "from bs4 import BeautifulSoup\n",
    "\n",
    "import requests\n",
    "\n",
    "# url = 'https://www.boxofficemojo.com/yearly/'\n",
    "\n",
    "# MasterURLs = utils.MasterURLsparser(url)"
   ]
  },
  {
   "cell_type": "code",
   "execution_count": 3,
   "metadata": {},
   "outputs": [],
   "source": [
    "def downloadhtml(url):\n",
    "    try:\n",
    "        page = requests.get(url)\n",
    "        if 'Sorry, we\\'re not able to process your request.' in BeautifulSoup(page.content, 'lxml').find('div', id='main').find('p'):\n",
    "            return None\n",
    "        elif 'chart' in url:\n",
    "            return None\n",
    "        else:\n",
    "            soup = BeautifulSoup(page.content, 'lxml')\n",
    "            return soup\n",
    "    except Exception as e:\n",
    "        soup = e\n",
    "        return 'ErrorCode' + ' ' + str(soup)\n",
    "    \n",
    "def uppertabledataparser(soup):\n",
    "    upper_table_data_rows = soup.find('div', id='body').find('table', style='padding-top: 5px;').find('table', bgcolor='#dcdcdc').find_all('tr')\n",
    "    return upper_table_data_rows"
   ]
  },
  {
   "cell_type": "code",
   "execution_count": 7,
   "metadata": {},
   "outputs": [],
   "source": [
    "def releasedateparser(url):\n",
    "    try:\n",
    "        soup = downloadhtml(url)\n",
    "        if soup is None:\n",
    "            return 'NULL'\n",
    "        else:\n",
    "            upper_table_data_rows = uppertabledataparser(soup)\n",
    "            li = []\n",
    "            for tr in upper_table_data_rows:\n",
    "                td = tr.find_all('td')\n",
    "                for i in td:\n",
    "                    li.append(i.text)\n",
    "            upper_table_dict = {k:v for k,v in (x.split(':') for x in li[1:])}\n",
    "            for i in upper_table_dict.keys():\n",
    "                upper_table_dict[i] = upper_table_dict[i].lstrip()\n",
    "            return upper_table_dict['Release Date']\n",
    "    except AttributeError:\n",
    "        stopgap = 0\n",
    "        while stopgap <= 8:\n",
    "            try:\n",
    "                soup = downloadhtml(url)\n",
    "                if soup is None:\n",
    "                    return 'NULL'\n",
    "                else:\n",
    "                    upper_table_data_rows = uppertabledataparser(soup)\n",
    "                    li = []\n",
    "                    for tr in upper_table_data_rows:\n",
    "                        td = tr.find_all('td')\n",
    "                        for i in td:\n",
    "                            li.append(i.text)\n",
    "                    upper_table_dict = {k:v for k,v in (x.split(':') for x in li[1:])}\n",
    "                    for i in upper_table_dict.keys():\n",
    "                        upper_table_dict[i] = upper_table_dict[i].lstrip()\n",
    "                    return upper_table_dict['Release Date']\n",
    "            except AttributeError:\n",
    "                if stopgap == 8:\n",
    "                    return 'AttributeError' + ' ' + str(url)\n",
    "                else:\n",
    "                    stopgap += 1\n",
    "                    continue"
   ]
  },
  {
   "cell_type": "code",
   "execution_count": 8,
   "metadata": {},
   "outputs": [],
   "source": [
    "MasterURLBatch = MasterURLs[:500]\n",
    "# MasterURLBatch = MasterURLs[500:1000]\n",
    "# MasterURLBatch = MasterURLs[1000:2000]\n",
    "# MasterURLBatch = MasterURLs[2000:3000]"
   ]
  },
  {
   "cell_type": "code",
   "execution_count": 9,
   "metadata": {},
   "outputs": [
    {
     "name": "stdout",
     "output_type": "stream",
     "text": [
      "0 https://www.boxofficemojo.com/movies/?id=marvel2017b.htm\n",
      "1 https://www.boxofficemojo.com/movies/?id=theincredibles2.htm\n",
      "2 https://www.boxofficemojo.com/movies/?id=foxmarvel18.htm\n",
      "3 https://www.boxofficemojo.com/movies/?id=ant-manandthewasp.htm\n",
      "4 https://www.boxofficemojo.com/movies/?id=aquietplace.htm\n",
      "5 https://www.boxofficemojo.com/movies/?id=hoteltransylvania3.htm\n",
      "6 https://www.boxofficemojo.com/movies/?id=wbeventfilm2018c.htm\n",
      "7 https://www.boxofficemojo.com/movies/?id=mammamia2.htm\n",
      "8 https://www.boxofficemojo.com/movies/?id=thenun.htm\n",
      "9 https://www.boxofficemojo.com/movies/?id=ladisneyfairytale22018.htm\n",
      "10 https://www.boxofficemojo.com/movies/?id=newlinetentpole2018.htm\n",
      "11 https://www.boxofficemojo.com/movies/?id=icanonlyimagine.htm\n",
      "12 https://www.boxofficemojo.com/movies/?id=purge4.htm\n",
      "13 https://www.boxofficemojo.com/movies/?id=bookclub.htm\n",
      "14 https://www.boxofficemojo.com/movies/?id=insidious4.htm\n",
      "15 https://www.boxofficemojo.com/movies/?id=pacificrim2.htm\n",
      "16 https://www.boxofficemojo.com/movies/?id=dcfilm0318.htm\n",
      "17 https://www.boxofficemojo.com/movies/?id=tag.htm\n",
      "18 https://www.boxofficemojo.com/movies/?id=overboard2018.htm\n",
      "19 https://www.boxofficemojo.com/movies/?id=thepredator.htm\n",
      "20 https://www.boxofficemojo.com/movies/?id=ifeelpretty.htm\n",
      "21 https://www.boxofficemojo.com/movies/?id=redsparrow.htm\n",
      "22 https://www.boxofficemojo.com/movies/?id=breakingin2018.htm\n",
      "23 https://www.boxofficemojo.com/movies/?id=denofthieves.htm\n",
      "24 https://www.boxofficemojo.com/movies/?id=acrimony.htm\n",
      "25 https://www.boxofficemojo.com/movies/?id=smallfoot.htm\n",
      "26 https://www.boxofficemojo.com/movies/?id=uncledrew.htm\n",
      "27 https://www.boxofficemojo.com/movies/?id=untitledgregberlantifilm.htm\n",
      "28 https://www.boxofficemojo.com/movies/?id=thecommuter.htm\n",
      "29 https://www.boxofficemojo.com/movies/?id=mile22.htm\n",
      "30 https://www.boxofficemojo.com/movies/?id=peppermint.htm\n",
      "31 https://www.boxofficemojo.com/movies/?id=thespywhodumpedme.htm\n",
      "32 https://www.boxofficemojo.com/movies/?id=isleofdogs.htm\n",
      "33 https://www.boxofficemojo.com/movies/?id=supertroopers2.htm\n",
      "34 https://www.boxofficemojo.com/movies/?id=wbanimation62018.htm\n",
      "35 https://www.boxofficemojo.com/movies/?id=winchester.htm\n",
      "36 https://www.boxofficemojo.com/movies/?id=whiteboyrick.htm\n",
      "37 https://www.boxofficemojo.com/movies/?id=proudmary.htm\n",
      "38 https://www.boxofficemojo.com/movies/?id=superfly.htm\n",
      "39 https://www.boxofficemojo.com/movies/?id=paulapostleofchrist.htm\n",
      "40 https://www.boxofficemojo.com/movies/?id=sorrytobotheryou.htm\n",
      "41 https://www.boxofficemojo.com/movies/?id=forevermygirl.htm\n",
      "42 https://www.boxofficemojo.com/movies/?id=eighthgrade.htm\n",
      "43 https://www.boxofficemojo.com/movies/?id=threeidenticalstrangers.htm\n",
      "44 https://www.boxofficemojo.com/movies/?id=padmaavat.htm\n",
      "45 https://www.boxofficemojo.com/movies/?id=midnightsun.htm\n",
      "46 https://www.boxofficemojo.com/movies/?id=traffik.htm\n",
      "47 https://www.boxofficemojo.com/movies/?id=unfriended2.htm\n",
      "48 https://www.boxofficemojo.com/movies/?id=thedeathofstalin.htm\n",
      "49 https://www.boxofficemojo.com/movies/?id=unsane.htm\n",
      "50 https://www.boxofficemojo.com/movies/?id=marvel0518.htm\n",
      "51 https://www.boxofficemojo.com/movies/?id=jurassicworldsequel.htm\n",
      "52 https://www.boxofficemojo.com/movies/?id=missionimpossible6.htm\n",
      "53 https://www.boxofficemojo.com/movies/?id=untitledhansolostarwarsanthologyfilm.htm\n",
      "54 https://www.boxofficemojo.com/movies/?id=crazyrichasians.htm\n",
      "55 https://www.boxofficemojo.com/movies/?id=wbeventfilm2018.htm\n",
      "56 https://www.boxofficemojo.com/movies/?id=readyplayerone.htm\n",
      "57 https://www.boxofficemojo.com/movies/?id=peterrabbit.htm\n",
      "58 https://www.boxofficemojo.com/movies/?id=theequalizer2.htm\n",
      "59 https://www.boxofficemojo.com/movies/?id=fiftyshadesfreed.htm\n",
      "60 https://www.boxofficemojo.com/movies/?id=disneyfairytale2017.htm\n",
      "61 https://www.boxofficemojo.com/movies/?id=venom2018.htm\n",
      "62 https://www.boxofficemojo.com/movies/?id=gamenight.htm\n",
      "63 https://www.boxofficemojo.com/movies/?id=skyscraper.htm\n",
      "64 https://www.boxofficemojo.com/movies/?id=unirratedcomedy.htm\n",
      "65 https://www.boxofficemojo.com/movies/?id=mazerunner3.htm\n",
      "66 https://www.boxofficemojo.com/movies/?id=thehousewithaclockinitswalls.htm\n",
      "67 https://www.boxofficemojo.com/movies/?id=lifeoftheparty.htm\n",
      "68 https://www.boxofficemojo.com/movies/?id=sicario2.htm\n",
      "69 https://www.boxofficemojo.com/movies/?id=asimplefavor.htm\n",
      "70 https://www.boxofficemojo.com/movies/?id=blackkklansman.htm\n",
      "71 https://www.boxofficemojo.com/movies/?id=nightschool2018.htm\n",
      "72 https://www.boxofficemojo.com/movies/?id=horsesoldiers2018.htm\n",
      "73 https://www.boxofficemojo.com/movies/?id=a24horrora.htm\n",
      "74 https://www.boxofficemojo.com/movies/?id=sherlockgnomes.htm\n",
      "75 https://www.boxofficemojo.com/movies/?id=astarisborn2018.htm\n",
      "76 https://www.boxofficemojo.com/movies/?id=truthordare2017.htm\n",
      "77 https://www.boxofficemojo.com/movies/?id=paddington2.htm\n",
      "78 https://www.boxofficemojo.com/movies/?id=1517toparis.htm\n",
      "79 https://www.boxofficemojo.com/movies/?id=sonyeventfilm2017.htm\n",
      "80 https://www.boxofficemojo.com/movies/?id=deathwish2017.htm\n",
      "81 https://www.boxofficemojo.com/movies/?id=annihilation.htm\n",
      "82 https://www.boxofficemojo.com/movies/?id=adrift.htm\n",
      "83 https://www.boxofficemojo.com/movies/?id=slenderman.htm\n",
      "84 https://www.boxofficemojo.com/movies/?id=searching.htm\n",
      "85 https://www.boxofficemojo.com/movies/?id=strangers2.htm\n",
      "86 https://www.boxofficemojo.com/movies/?id=bemyneighbor.htm\n",
      "87 https://www.boxofficemojo.com/movies/?id=thehappytimemurders.htm\n",
      "88 https://www.boxofficemojo.com/movies/?id=showdogs.htm\n",
      "89 https://www.boxofficemojo.com/movies/?id=operationfinale.htm\n",
      "90 https://www.boxofficemojo.com/movies/?id=chappaquiddick.htm\n",
      "91 https://www.boxofficemojo.com/movies/?id=rbg.htm\n",
      "92 https://www.boxofficemojo.com/movies/?id=thedarkestminds.htm\n",
      "93 https://www.boxofficemojo.com/movies/?id=upgrade.htm\n",
      "94 https://www.boxofficemojo.com/movies/?id=themiracleseason.htm\n",
      "95 https://www.boxofficemojo.com/movies/?id=tully2018.htm\n",
      "96 https://www.boxofficemojo.com/movies/?id=hellfest.htm\n",
      "97 https://www.boxofficemojo.com/movies/?id=earlyman.htm\n",
      "98 https://www.boxofficemojo.com/movies/?id=sanju.htm\n",
      "99 https://www.boxofficemojo.com/movies/?id=thewife.htm\n",
      "100 https://www.boxofficemojo.com/movies/?id=starwars8.htm\n",
      "101 https://www.boxofficemojo.com/movies/?id=wonderwoman.htm\n",
      "102 https://www.boxofficemojo.com/movies/?id=marvel17a.htm\n",
      "103 https://www.boxofficemojo.com/movies/?id=it.htm\n",
      "104 https://www.boxofficemojo.com/movies/?id=despicableme3.htm\n",
      "105 https://www.boxofficemojo.com/movies/?id=wolverine2017.htm\n",
      "106 https://www.boxofficemojo.com/movies/?id=pixar1117.htm\n",
      "107 https://www.boxofficemojo.com/movies/?id=blumhouse2.htm\n",
      "108 https://www.boxofficemojo.com/movies/?id=bossbaby.htm\n",
      "109 https://www.boxofficemojo.com/movies/?id=potc5.htm\n",
      "110 https://www.boxofficemojo.com/movies/?id=cars3.htm\n",
      "111 https://www.boxofficemojo.com/movies/?id=split2017.htm\n",
      "112 https://www.boxofficemojo.com/movies/?id=transformers5.htm\n",
      "113 https://www.boxofficemojo.com/movies/?id=fiftyshadesdarker.htm\n",
      "114 https://www.boxofficemojo.com/movies/?id=pitchperfect3.htm\n",
      "115 https://www.boxofficemojo.com/movies/?id=murderorientexpress17.htm\n",
      "116 https://www.boxofficemojo.com/movies/?id=kingsman2.htm\n",
      "117 https://www.boxofficemojo.com/movies/?id=johnwick2.htm\n",
      "118 https://www.boxofficemojo.com/movies/?id=powerrangers16.htm\n",
      "119 https://www.boxofficemojo.com/movies/?id=untitledstevenspielberg.htm\n",
      "120 https://www.boxofficemojo.com/movies/?id=hitmansbodyguard.htm\n",
      "121 https://www.boxofficemojo.com/movies/?id=captainunderpants.htm\n",
      "122 https://www.boxofficemojo.com/movies/?id=adogspurpose.htm\n",
      "123 https://www.boxofficemojo.com/movies/?id=ninjago.htm\n",
      "124 https://www.boxofficemojo.com/movies/?id=theshack.htm\n",
      "125 https://www.boxofficemojo.com/movies/?id=blumhousehorror2018.htm\n",
      "126 https://www.boxofficemojo.com/movies/?id=thecoldestcity.htm\n",
      "127 https://www.boxofficemojo.com/movies/?id=darktower.htm\n",
      "128 https://www.boxofficemojo.com/movies/?id=amadeahalloween2.htm\n",
      "129 https://www.boxofficemojo.com/movies/?id=greatwall.htm\n",
      "130 https://www.boxofficemojo.com/movies/?id=goinginsty2017.htm\n",
      "131 https://www.boxofficemojo.com/movies/?id=xxx3.htm\n",
      "132 https://www.boxofficemojo.com/movies/?id=thebigsick.htm\n",
      "133 https://www.boxofficemojo.com/movies/?id=thelamb.htm\n"
     ]
    },
    {
     "name": "stdout",
     "output_type": "stream",
     "text": [
      "134 https://www.boxofficemojo.com/movies/?id=kingarthur2016.htm\n",
      "135 https://www.boxofficemojo.com/movies/?id=americanassassin.htm\n",
      "136 https://www.boxofficemojo.com/movies/?id=everythingeverything.htm\n",
      "137 https://www.boxofficemojo.com/movies/?id=geostorm.htm\n",
      "138 https://www.boxofficemojo.com/movies/?id=fistfight.htm\n",
      "139 https://www.boxofficemojo.com/movies/?id=kidnap2015.htm\n",
      "140 https://www.boxofficemojo.com/movies/?id=mountainbetweenus.htm\n",
      "141 https://www.boxofficemojo.com/movies/?id=itonya.htm\n",
      "142 https://www.boxofficemojo.com/movies/?id=mollysgame.htm\n",
      "143 https://www.boxofficemojo.com/movies/?id=rings.htm\n",
      "144 https://www.boxofficemojo.com/movies/?id=homeagain.htm\n",
      "145 https://www.boxofficemojo.com/movies/?id=thehouse.htm\n",
      "146 https://www.boxofficemojo.com/movies/?id=gifted.htm\n",
      "147 https://www.boxofficemojo.com/movies/?id=thebyebyeman.htm\n",
      "148 https://www.boxofficemojo.com/movies/?id=rockthatbody.htm\n"
     ]
    },
    {
     "ename": "ValueError",
     "evalue": "too many values to unpack (expected 2)",
     "output_type": "error",
     "traceback": [
      "\u001b[0;31m---------------------------------------------------------------------------\u001b[0m",
      "\u001b[0;31mValueError\u001b[0m                                Traceback (most recent call last)",
      "\u001b[0;32m<ipython-input-9-173696b7d124>\u001b[0m in \u001b[0;36m<module>\u001b[0;34m()\u001b[0m\n\u001b[1;32m      4\u001b[0m     df = df.append(\n\u001b[1;32m      5\u001b[0m         {\n\u001b[0;32m----> 6\u001b[0;31m             \u001b[0;34m'Release Date'\u001b[0m\u001b[0;34m:\u001b[0m \u001b[0mutils\u001b[0m\u001b[0;34m.\u001b[0m\u001b[0mreleasedateparser\u001b[0m\u001b[0;34m(\u001b[0m\u001b[0murl\u001b[0m\u001b[0;34m)\u001b[0m\u001b[0;34m\u001b[0m\u001b[0m\n\u001b[0m\u001b[1;32m      7\u001b[0m             \u001b[0;34m,\u001b[0m \u001b[0;34m'URL'\u001b[0m\u001b[0;34m:\u001b[0m \u001b[0mstr\u001b[0m\u001b[0;34m(\u001b[0m\u001b[0murl\u001b[0m\u001b[0;34m)\u001b[0m\u001b[0;34m\u001b[0m\u001b[0m\n\u001b[1;32m      8\u001b[0m         }, ignore_index=True\n",
      "\u001b[0;32m~/Documents/Projects/BoxOfficeMojo-Python-WebScraper/src/utils/utils.py\u001b[0m in \u001b[0;36mreleasedateparser\u001b[0;34m(url)\u001b[0m\n\u001b[1;32m    227\u001b[0m             \u001b[0;32mfor\u001b[0m \u001b[0mi\u001b[0m \u001b[0;32min\u001b[0m \u001b[0mtd\u001b[0m\u001b[0;34m:\u001b[0m\u001b[0;34m\u001b[0m\u001b[0m\n\u001b[1;32m    228\u001b[0m                 \u001b[0mli\u001b[0m\u001b[0;34m.\u001b[0m\u001b[0mappend\u001b[0m\u001b[0;34m(\u001b[0m\u001b[0mi\u001b[0m\u001b[0;34m.\u001b[0m\u001b[0mtext\u001b[0m\u001b[0;34m)\u001b[0m\u001b[0;34m\u001b[0m\u001b[0m\n\u001b[0;32m--> 229\u001b[0;31m         \u001b[0mupper_table_dict\u001b[0m \u001b[0;34m=\u001b[0m \u001b[0;34m{\u001b[0m\u001b[0mk\u001b[0m\u001b[0;34m:\u001b[0m\u001b[0mv\u001b[0m \u001b[0;32mfor\u001b[0m \u001b[0mk\u001b[0m\u001b[0;34m,\u001b[0m\u001b[0mv\u001b[0m \u001b[0;32min\u001b[0m \u001b[0;34m(\u001b[0m\u001b[0mx\u001b[0m\u001b[0;34m.\u001b[0m\u001b[0msplit\u001b[0m\u001b[0;34m(\u001b[0m\u001b[0;34m':'\u001b[0m\u001b[0;34m)\u001b[0m \u001b[0;32mfor\u001b[0m \u001b[0mx\u001b[0m \u001b[0;32min\u001b[0m \u001b[0mli\u001b[0m\u001b[0;34m)\u001b[0m\u001b[0;34m}\u001b[0m\u001b[0;34m\u001b[0m\u001b[0m\n\u001b[0m\u001b[1;32m    230\u001b[0m         \u001b[0;32mfor\u001b[0m \u001b[0mi\u001b[0m \u001b[0;32min\u001b[0m \u001b[0mupper_table_dict\u001b[0m\u001b[0;34m.\u001b[0m\u001b[0mkeys\u001b[0m\u001b[0;34m(\u001b[0m\u001b[0;34m)\u001b[0m\u001b[0;34m:\u001b[0m\u001b[0;34m\u001b[0m\u001b[0m\n\u001b[1;32m    231\u001b[0m             \u001b[0mupper_table_dict\u001b[0m\u001b[0;34m[\u001b[0m\u001b[0mi\u001b[0m\u001b[0;34m]\u001b[0m \u001b[0;34m=\u001b[0m \u001b[0mupper_table_dict\u001b[0m\u001b[0;34m[\u001b[0m\u001b[0mi\u001b[0m\u001b[0;34m]\u001b[0m\u001b[0;34m.\u001b[0m\u001b[0mlstrip\u001b[0m\u001b[0;34m(\u001b[0m\u001b[0;34m)\u001b[0m\u001b[0;34m\u001b[0m\u001b[0m\n",
      "\u001b[0;32m~/Documents/Projects/BoxOfficeMojo-Python-WebScraper/src/utils/utils.py\u001b[0m in \u001b[0;36m<dictcomp>\u001b[0;34m(.0)\u001b[0m\n\u001b[1;32m    227\u001b[0m             \u001b[0;32mfor\u001b[0m \u001b[0mi\u001b[0m \u001b[0;32min\u001b[0m \u001b[0mtd\u001b[0m\u001b[0;34m:\u001b[0m\u001b[0;34m\u001b[0m\u001b[0m\n\u001b[1;32m    228\u001b[0m                 \u001b[0mli\u001b[0m\u001b[0;34m.\u001b[0m\u001b[0mappend\u001b[0m\u001b[0;34m(\u001b[0m\u001b[0mi\u001b[0m\u001b[0;34m.\u001b[0m\u001b[0mtext\u001b[0m\u001b[0;34m)\u001b[0m\u001b[0;34m\u001b[0m\u001b[0m\n\u001b[0;32m--> 229\u001b[0;31m         \u001b[0mupper_table_dict\u001b[0m \u001b[0;34m=\u001b[0m \u001b[0;34m{\u001b[0m\u001b[0mk\u001b[0m\u001b[0;34m:\u001b[0m\u001b[0mv\u001b[0m \u001b[0;32mfor\u001b[0m \u001b[0mk\u001b[0m\u001b[0;34m,\u001b[0m\u001b[0mv\u001b[0m \u001b[0;32min\u001b[0m \u001b[0;34m(\u001b[0m\u001b[0mx\u001b[0m\u001b[0;34m.\u001b[0m\u001b[0msplit\u001b[0m\u001b[0;34m(\u001b[0m\u001b[0;34m':'\u001b[0m\u001b[0;34m)\u001b[0m \u001b[0;32mfor\u001b[0m \u001b[0mx\u001b[0m \u001b[0;32min\u001b[0m \u001b[0mli\u001b[0m\u001b[0;34m)\u001b[0m\u001b[0;34m}\u001b[0m\u001b[0;34m\u001b[0m\u001b[0m\n\u001b[0m\u001b[1;32m    230\u001b[0m         \u001b[0;32mfor\u001b[0m \u001b[0mi\u001b[0m \u001b[0;32min\u001b[0m \u001b[0mupper_table_dict\u001b[0m\u001b[0;34m.\u001b[0m\u001b[0mkeys\u001b[0m\u001b[0;34m(\u001b[0m\u001b[0;34m)\u001b[0m\u001b[0;34m:\u001b[0m\u001b[0;34m\u001b[0m\u001b[0m\n\u001b[1;32m    231\u001b[0m             \u001b[0mupper_table_dict\u001b[0m\u001b[0;34m[\u001b[0m\u001b[0mi\u001b[0m\u001b[0;34m]\u001b[0m \u001b[0;34m=\u001b[0m \u001b[0mupper_table_dict\u001b[0m\u001b[0;34m[\u001b[0m\u001b[0mi\u001b[0m\u001b[0;34m]\u001b[0m\u001b[0;34m.\u001b[0m\u001b[0mlstrip\u001b[0m\u001b[0;34m(\u001b[0m\u001b[0;34m)\u001b[0m\u001b[0;34m\u001b[0m\u001b[0m\n",
      "\u001b[0;31mValueError\u001b[0m: too many values to unpack (expected 2)"
     ]
    }
   ],
   "source": [
    "df = pd.DataFrame()\n",
    "\n",
    "for url in MasterURLBatch:\n",
    "    df = df.append(\n",
    "        {\n",
    "            'Release Date': utils.releasedateparser(url)\n",
    "            , 'URL': str(url)\n",
    "        }, ignore_index=True\n",
    "    )\n",
    "    print(str(df.index.values[-1]) + ' ' + str(url))"
   ]
  },
  {
   "cell_type": "code",
   "execution_count": null,
   "metadata": {},
   "outputs": [],
   "source": []
  },
  {
   "cell_type": "code",
   "execution_count": null,
   "metadata": {},
   "outputs": [],
   "source": []
  },
  {
   "cell_type": "code",
   "execution_count": null,
   "metadata": {},
   "outputs": [],
   "source": []
  },
  {
   "cell_type": "code",
   "execution_count": null,
   "metadata": {},
   "outputs": [],
   "source": []
  },
  {
   "cell_type": "code",
   "execution_count": null,
   "metadata": {},
   "outputs": [],
   "source": []
  },
  {
   "cell_type": "code",
   "execution_count": null,
   "metadata": {},
   "outputs": [],
   "source": []
  },
  {
   "cell_type": "code",
   "execution_count": null,
   "metadata": {},
   "outputs": [],
   "source": []
  },
  {
   "cell_type": "code",
   "execution_count": null,
   "metadata": {},
   "outputs": [],
   "source": []
  },
  {
   "cell_type": "code",
   "execution_count": null,
   "metadata": {},
   "outputs": [],
   "source": []
  },
  {
   "cell_type": "code",
   "execution_count": null,
   "metadata": {},
   "outputs": [],
   "source": []
  },
  {
   "cell_type": "code",
   "execution_count": null,
   "metadata": {},
   "outputs": [],
   "source": []
  },
  {
   "cell_type": "code",
   "execution_count": null,
   "metadata": {},
   "outputs": [],
   "source": []
  },
  {
   "cell_type": "code",
   "execution_count": null,
   "metadata": {},
   "outputs": [],
   "source": []
  },
  {
   "cell_type": "code",
   "execution_count": null,
   "metadata": {},
   "outputs": [],
   "source": []
  },
  {
   "cell_type": "code",
   "execution_count": null,
   "metadata": {},
   "outputs": [],
   "source": []
  },
  {
   "cell_type": "code",
   "execution_count": null,
   "metadata": {},
   "outputs": [],
   "source": []
  },
  {
   "cell_type": "code",
   "execution_count": null,
   "metadata": {},
   "outputs": [],
   "source": []
  },
  {
   "cell_type": "code",
   "execution_count": null,
   "metadata": {},
   "outputs": [],
   "source": []
  },
  {
   "cell_type": "code",
   "execution_count": null,
   "metadata": {},
   "outputs": [],
   "source": []
  },
  {
   "cell_type": "code",
   "execution_count": null,
   "metadata": {},
   "outputs": [],
   "source": []
  },
  {
   "cell_type": "code",
   "execution_count": null,
   "metadata": {},
   "outputs": [],
   "source": []
  },
  {
   "cell_type": "code",
   "execution_count": null,
   "metadata": {},
   "outputs": [],
   "source": []
  },
  {
   "cell_type": "code",
   "execution_count": null,
   "metadata": {},
   "outputs": [],
   "source": []
  },
  {
   "cell_type": "code",
   "execution_count": null,
   "metadata": {},
   "outputs": [],
   "source": []
  },
  {
   "cell_type": "code",
   "execution_count": null,
   "metadata": {},
   "outputs": [],
   "source": []
  },
  {
   "cell_type": "code",
   "execution_count": null,
   "metadata": {},
   "outputs": [],
   "source": []
  },
  {
   "cell_type": "code",
   "execution_count": null,
   "metadata": {},
   "outputs": [],
   "source": []
  },
  {
   "cell_type": "code",
   "execution_count": null,
   "metadata": {},
   "outputs": [],
   "source": []
  },
  {
   "cell_type": "code",
   "execution_count": null,
   "metadata": {},
   "outputs": [],
   "source": []
  },
  {
   "cell_type": "code",
   "execution_count": null,
   "metadata": {},
   "outputs": [],
   "source": []
  },
  {
   "cell_type": "code",
   "execution_count": null,
   "metadata": {},
   "outputs": [],
   "source": []
  },
  {
   "cell_type": "code",
   "execution_count": null,
   "metadata": {},
   "outputs": [],
   "source": []
  },
  {
   "cell_type": "code",
   "execution_count": null,
   "metadata": {},
   "outputs": [],
   "source": []
  }
 ],
 "metadata": {
  "kernelspec": {
   "display_name": "Python 3",
   "language": "python",
   "name": "python3"
  },
  "language_info": {
   "codemirror_mode": {
    "name": "ipython",
    "version": 3
   },
   "file_extension": ".py",
   "mimetype": "text/x-python",
   "name": "python",
   "nbconvert_exporter": "python",
   "pygments_lexer": "ipython3",
   "version": "3.6.4"
  }
 },
 "nbformat": 4,
 "nbformat_minor": 2
}
