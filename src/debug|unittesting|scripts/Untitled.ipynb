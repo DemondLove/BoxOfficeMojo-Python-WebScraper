{
 "cells": [
  {
   "cell_type": "code",
   "execution_count": null,
   "metadata": {},
   "outputs": [],
   "source": [
    "import sys\n",
    "import os\n",
    "import inspect\n",
    "from imp import reload\n",
    "import pandas as pd\n",
    "\n",
    "filename = inspect.getframeinfo(inspect.currentframe()).filename\n",
    "curpath = os.path.dirname(os.path.abspath(filename))\n",
    "sys.path.insert(0, curpath + '/utils')\n",
    "\n",
    "import utils\n",
    "\n",
    "HomeDirectory = 'https://www.boxofficemojo.com/yearly/'\n",
    "\n",
    "MasterURLs = utils.MasterURLsparser(HomeDirectory)\n",
    "\n",
    "df = pd.DataFrame()\n",
    "\n",
    "for url in MasterURLs:\n",
    "    df = df.append(\n",
    "        {\n",
    "            'Title': utils.titleparser(url)\n",
    "            , 'Distributor': utils.distributorparser(url)\n",
    "            , 'Genre': utils.genreparser(url)\n",
    "            , 'MPAA Rating': utils.mpaaratingparser(url)\n",
    "            , 'Production Budget': utils.productionbudgetparser(url)\n",
    "            , 'Release Date': utils.releasedateparser(url)\n",
    "            , 'Runtime': utils.runtimeparser(url)\n",
    "            , 'Domestic': utils.domesticparser(url)\n",
    "            , 'Foreign': utils.foreignparser(url)\n",
    "            , 'Worldwide': utils.worldwideparser(url)\n",
    "            , 'Opening Weekend Gross': utils.openingweekendgrossparser(url)\n",
    "            , 'Opening Weekend Theaters': utils.openingweekendtheatersparser(url)\n",
    "            , 'Widest Theaters': utils.widestreleaseparser(url)\n",
    "            # , 'Director': utils.directorparser(url)\n",
    "            # , 'Writer': utils.writerparser(url)\n",
    "            # , 'Actors': utils.actorparser(url)\n",
    "            # , 'Producer': utils.producerparser(url)\n",
    "            # , 'Composer': utils.composerparser(url)\n",
    "            , 'Genres': utils.genresparser(url)\n",
    "            , 'URL': str(url)\n",
    "        }, ignore_index=True\n",
    "    )\n",
    "\n"
   ]
  },
  {
   "cell_type": "code",
   "execution_count": null,
   "metadata": {},
   "outputs": [],
   "source": [
    "df.to_csv(curpath + '/data/BoxOfficeMojoDataset.csv')"
   ]
  },
  {
   "cell_type": "code",
   "execution_count": null,
   "metadata": {},
   "outputs": [],
   "source": []
  },
  {
   "cell_type": "code",
   "execution_count": null,
   "metadata": {},
   "outputs": [],
   "source": []
  },
  {
   "cell_type": "code",
   "execution_count": null,
   "metadata": {},
   "outputs": [],
   "source": []
  },
  {
   "cell_type": "code",
   "execution_count": null,
   "metadata": {},
   "outputs": [],
   "source": []
  },
  {
   "cell_type": "code",
   "execution_count": null,
   "metadata": {},
   "outputs": [],
   "source": []
  },
  {
   "cell_type": "code",
   "execution_count": null,
   "metadata": {},
   "outputs": [],
   "source": []
  },
  {
   "cell_type": "code",
   "execution_count": null,
   "metadata": {},
   "outputs": [],
   "source": []
  },
  {
   "cell_type": "code",
   "execution_count": null,
   "metadata": {},
   "outputs": [],
   "source": []
  },
  {
   "cell_type": "code",
   "execution_count": null,
   "metadata": {},
   "outputs": [],
   "source": []
  },
  {
   "cell_type": "code",
   "execution_count": null,
   "metadata": {},
   "outputs": [],
   "source": []
  },
  {
   "cell_type": "code",
   "execution_count": null,
   "metadata": {},
   "outputs": [],
   "source": []
  },
  {
   "cell_type": "code",
   "execution_count": null,
   "metadata": {},
   "outputs": [],
   "source": []
  },
  {
   "cell_type": "code",
   "execution_count": null,
   "metadata": {},
   "outputs": [],
   "source": []
  },
  {
   "cell_type": "code",
   "execution_count": null,
   "metadata": {},
   "outputs": [],
   "source": []
  },
  {
   "cell_type": "code",
   "execution_count": null,
   "metadata": {},
   "outputs": [],
   "source": []
  },
  {
   "cell_type": "code",
   "execution_count": null,
   "metadata": {},
   "outputs": [],
   "source": []
  },
  {
   "cell_type": "code",
   "execution_count": null,
   "metadata": {},
   "outputs": [],
   "source": []
  },
  {
   "cell_type": "code",
   "execution_count": null,
   "metadata": {},
   "outputs": [],
   "source": []
  },
  {
   "cell_type": "code",
   "execution_count": null,
   "metadata": {},
   "outputs": [],
   "source": [
    "df.to_csv(curpath + '/data/dfGenreDataset.csv')"
   ]
  }
 ],
 "metadata": {
  "kernelspec": {
   "display_name": "Python 3",
   "language": "python",
   "name": "python3"
  },
  "language_info": {
   "codemirror_mode": {
    "name": "ipython",
    "version": 3
   },
   "file_extension": ".py",
   "mimetype": "text/x-python",
   "name": "python",
   "nbconvert_exporter": "python",
   "pygments_lexer": "ipython3",
   "version": "3.6.4"
  }
 },
 "nbformat": 4,
 "nbformat_minor": 2
}
