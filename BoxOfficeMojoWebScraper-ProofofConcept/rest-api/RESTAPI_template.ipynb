{
 "cells": [
  {
   "cell_type": "markdown",
   "metadata": {},
   "source": [
    "Building RESTful API:\n",
    "https://codeburst.io/this-is-how-easy-it-is-to-create-a-rest-api-8a25122ab1f3"
   ]
  },
  {
   "cell_type": "code",
   "execution_count": null,
   "metadata": {},
   "outputs": [],
   "source": [
    "from flask import Flask\n",
    "from flask_restful import Api, Resource, reqparse\n",
    "\n",
    "app = Flask(__name__)\n",
    "api = Api(app)\n",
    "\n",
    "users = [\n",
    "    {\n",
    "        \"name\": \"Nicholas\",\n",
    "        \"age\": 42,\n",
    "        \"occupation\": \"Network Engineer\"\n",
    "    },\n",
    "    {\n",
    "        \"name\": \"Elvin\",\n",
    "        \"age\": 32,\n",
    "        \"occupation\": \"Doctor\"\n",
    "    },\n",
    "    {\n",
    "        \"name\": \"Jass\",\n",
    "        \"age\": 22,\n",
    "        \"occupation\": \"Web Developer\"\n",
    "    }\n",
    "]\n",
    "\n",
    "class User(Resource):\n",
    "    def get(self, name):\n",
    "        for user in users:\n",
    "            if(name == user[\"name\"]):\n",
    "                return user, 200\n",
    "        return \"User not found\", 404\n",
    "\n",
    "    def post(self, name):\n",
    "        parser = reqparse.RequestParser()\n",
    "        parser.add_argument(\"age\")\n",
    "        parser.add_argument(\"occupation\")\n",
    "        args = parser.parse_args()\n",
    "\n",
    "        for user in users:\n",
    "            if(name == user[\"name\"]):\n",
    "                return \"User with name {} already exists\".format(name), 400\n",
    "\n",
    "        user = {\n",
    "            \"name\": name,\n",
    "            \"age\": args[\"age\"],\n",
    "            \"occupation\": args[\"occupation\"]\n",
    "        }\n",
    "        users.append(user)\n",
    "        return user, 201\n",
    "\n",
    "    def put(self, name):\n",
    "        parser = reqparse.RequestParser()\n",
    "        parser.add_argument(\"age\")\n",
    "        parser.add_argument(\"occupation\")\n",
    "        args = parser.parse_args()\n",
    "\n",
    "        for user in users:\n",
    "            if(name == user[\"name\"]):\n",
    "                user[\"age\"] = args[\"age\"]\n",
    "                user[\"occupation\"] = args[\"occupation\"]\n",
    "                return user, 200\n",
    "        \n",
    "        user = {\n",
    "            \"name\": name,\n",
    "            \"age\": args[\"age\"],\n",
    "            \"occupation\": args[\"occupation\"]\n",
    "        }\n",
    "        users.append(user)\n",
    "        return user, 201\n",
    "\n",
    "    def delete(self, name):\n",
    "        global users\n",
    "        users = [user for user in users if user[\"name\"] != name]\n",
    "        return \"{} is deleted.\".format(name), 200\n",
    "      \n",
    "api.add_resource(User, \"/user/<string:name>\")\n",
    "\n",
    "app.run(debug=True)"
   ]
  },
  {
   "cell_type": "markdown",
   "metadata": {},
   "source": [
    "Command Code to get the server up and running:"
   ]
  },
  {
   "cell_type": "code",
   "execution_count": null,
   "metadata": {},
   "outputs": [],
   "source": [
    "# cd Documents/Projects/RESTAPI/\n",
    "# python flaskapp.py"
   ]
  },
  {
   "cell_type": "markdown",
   "metadata": {},
   "source": [
    "Calling REST APIs:\n",
    "https://www.dataquest.io/blog/python-api-tutorial/"
   ]
  },
  {
   "cell_type": "code",
   "execution_count": 2,
   "metadata": {},
   "outputs": [],
   "source": [
    "import requests\n",
    "\n",
    "# Call to REST API\n",
    "response = requests.get('http://127.0.0.1:5000/user/Nicholas')\n",
    "\n",
    "response.content"
   ]
  }
 ],
 "metadata": {
  "kernelspec": {
   "display_name": "Python 3",
   "language": "python",
   "name": "python3"
  },
  "language_info": {
   "codemirror_mode": {
    "name": "ipython",
    "version": 3
   },
   "file_extension": ".py",
   "mimetype": "text/x-python",
   "name": "python",
   "nbconvert_exporter": "python",
   "pygments_lexer": "ipython3",
   "version": "3.6.6"
  }
 },
 "nbformat": 4,
 "nbformat_minor": 2
}
