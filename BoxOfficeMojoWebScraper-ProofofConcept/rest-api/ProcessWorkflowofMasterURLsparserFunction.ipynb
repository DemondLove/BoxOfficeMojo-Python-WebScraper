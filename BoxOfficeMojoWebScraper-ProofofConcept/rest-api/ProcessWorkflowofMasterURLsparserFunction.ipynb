{
 "cells": [
  {
   "cell_type": "markdown",
   "metadata": {},
   "source": [
    "Process Workflow:\n",
    "\n",
    "1. Call MasterURLsparser with https://www.boxofficemojo.com/yearly/\n",
    "2. MasterURLsparser calls AllYearlyURLsparser to return AllYearlyURLs list\n",
    "3. AllYearlyURLsparser calls YearlyTop100sparser to return YearlyTop100s list\n",
    "4. AllYearlyURLsparser calls YearlyNonTop100sparser to return YearlyNonTop100s list\n",
    "5. YearlyTop100sparser calls downloadhtml to return soup\n"
   ]
  },
  {
   "cell_type": "code",
   "execution_count": null,
   "metadata": {},
   "outputs": [],
   "source": [
    "def MasterURLsparser(url):\n",
    "    MasterURLs = []\n",
    "    AllYearlyURLs = AllYearlyURLsparser(url)\n",
    "    for x in AllYearlyURLs:\n",
    "        page = requests.get(x)\n",
    "        soup = BeautifulSoup(page.content, 'lxml')\n",
    "        body = soup.find('table', cellpadding='5')\n",
    "        try:\n",
    "            urls_rows_ffffff = body.find_all('tr', bgcolor='#ffffff')\n",
    "            li = []\n",
    "            for tr in urls_rows_ffffff:\n",
    "                td = tr.find_all('a')\n",
    "                for i in td:\n",
    "                    li.append(i.get('href'))\n",
    "            urls_rows_f4f4ff = body.find_all('tr', bgcolor='#f4f4ff')\n",
    "            lis = []\n",
    "            for tr in urls_rows_f4f4ff:\n",
    "                td = tr.find_all('a')\n",
    "                for i in td:\n",
    "                    lis.append(i.get('href'))\n",
    "            for i in range(0, len(li)-1):\n",
    "                if 'movies' in li[i]:\n",
    "                    MasterURLs.append(li[i])\n",
    "            for i in range(0, len(lis)-1):\n",
    "                if 'movies' in lis[i]:\n",
    "                    MasterURLs.append(lis[i])\n",
    "        except Exception:\n",
    "            stopgap = 0\n",
    "            while stopgap <= 8:\n",
    "                try:\n",
    "                    urls_rows_ffffff = body.find_all('tr', bgcolor='#ffffff')\n",
    "                    li = []\n",
    "                    for tr in urls_rows_ffffff:\n",
    "                        td = tr.find_all('a')\n",
    "                        for i in td:\n",
    "                            li.append(i.get('href'))\n",
    "                    urls_rows_f4f4ff = body.find_all('tr', bgcolor='#f4f4ff')\n",
    "                    lis = []\n",
    "                    for tr in urls_rows_f4f4ff:\n",
    "                        td = tr.find_all('a')\n",
    "                        for i in td:\n",
    "                            lis.append(i.get('href'))\n",
    "                    for i in range(0, len(li)-1):\n",
    "                        if 'movies' in li[i]:\n",
    "                            MasterURLs.append(li[i])\n",
    "                    for i in range(0, len(lis)-1):\n",
    "                        if 'movies' in lis[i]:\n",
    "                            MasterURLs.append(lis[i])\n",
    "                    stopgap += 1\n",
    "                    continue\n",
    "                except Exception:\n",
    "                    stopgap += 1\n",
    "                    continue\n",
    "    for i in range(0, len(MasterURLs)):\n",
    "        MasterURLs[i] = 'https://www.boxofficemojo.com'+ MasterURLs[i]\n",
    "    return MasterURLs"
   ]
  },
  {
   "cell_type": "code",
   "execution_count": null,
   "metadata": {},
   "outputs": [],
   "source": [
    "def AllYearlyURLsparser(url):\n",
    "    AllYearlyURLs = []\n",
    "    YearlyTop100s = YearlyTop100sparser(url)\n",
    "    YearlyNonTop100s = YearlyNonTop100sparser(url)\n",
    "    for x in YearlyTop100s:\n",
    "        AllYearlyURLs.append(x)\n",
    "    for x in YearlyNonTop100s:\n",
    "        AllYearlyURLs.append(x)\n",
    "    return AllYearlyURLs"
   ]
  },
  {
   "cell_type": "code",
   "execution_count": null,
   "metadata": {},
   "outputs": [],
   "source": [
    "def YearlyTop100sparser(url):\n",
    "    page = requests.get(url)\n",
    "    try:\n",
    "        soup = downloadhtml(url)\n",
    "        if soup is None:\n",
    "            return 'PageMissing' + ' ' + str(url)\n",
    "        elif soup == 'TimeoutError':\n",
    "            return 'TimeoutError' + ' ' + str(url)\n",
    "        else:\n",
    "            year = BeautifulSoup(page.content, 'lxml').find('div', id='body').find('table').find_next('table').find_next('table')\n",
    "            li = []\n",
    "            td = year.find_all('a')\n",
    "            for i in td:\n",
    "                li.append(i.get('href'))\n",
    "            YearlyTop100s = []\n",
    "            for i in range(0, len(li)-1):\n",
    "                if 'chart' in li[i]:\n",
    "                    YearlyTop100s.append(li[i])\n",
    "            for i in range(0, len(YearlyTop100s)):\n",
    "                YearlyTop100s[i] = 'https://www.boxofficemojo.com/yearly/'+ YearlyTop100s[i]\n",
    "            return YearlyTop100s\n",
    "    except AttributeError:\n",
    "        return 'AttributeError'"
   ]
  },
  {
   "cell_type": "code",
   "execution_count": null,
   "metadata": {},
   "outputs": [],
   "source": [
    "def YearlyNonTop100sparser(url):\n",
    "    YearlyTop100s = YearlyTop100sparser(url)\n",
    "    YearlyNonTop100s = []\n",
    "    for x in YearlyTop100s:\n",
    "        page = requests.get(x)\n",
    "        soup = BeautifulSoup(page.content, 'lxml')\n",
    "        footer = soup.find('center')\n",
    "        try:\n",
    "            footer_url_rows = footer.find_all('a')\n",
    "            for i in footer_url_rows:\n",
    "                YearlyNonTop100s.append(i.get('href'))\n",
    "        except Exception:\n",
    "            stopgap = 0\n",
    "            while stopgap <= 8:\n",
    "                try:\n",
    "                    footer_url_rows = footer.find_all('a')\n",
    "                    for i in footer_url_rows:\n",
    "                        YearlyNonTop100s.append(i.get('href'))\n",
    "                    stopgap += 1\n",
    "                    continue\n",
    "                except Exception:\n",
    "                    stopgap += 1\n",
    "                    continue\n",
    "    for i in range(0, len(YearlyNonTop100s)):\n",
    "        YearlyNonTop100s[i] = 'https://www.boxofficemojo.com'+ YearlyNonTop100s[i]\n",
    "    return YearlyNonTop100s"
   ]
  },
  {
   "cell_type": "code",
   "execution_count": null,
   "metadata": {},
   "outputs": [],
   "source": [
    "def downloadhtml(url):\n",
    "    try:\n",
    "        page = requests.get(url)\n",
    "        if 'Sorry, we\\'re not able to process your request.' in BeautifulSoup(page.content, 'lxml').find('div', id='main').find('p'):\n",
    "            return None\n",
    "        elif 'chart' in url:\n",
    "            return None\n",
    "        elif '..' in url:\n",
    "            return None\n",
    "        else:\n",
    "            soup = BeautifulSoup(page.content, 'lxml')\n",
    "            return soup\n",
    "    except Exception as e:\n",
    "        soup = e\n",
    "        return 'ErrorCode' + ' ' + str(soup)"
   ]
  },
  {
   "cell_type": "code",
   "execution_count": 1,
   "metadata": {},
   "outputs": [
    {
     "ename": "NameError",
     "evalue": "name 'requests' is not defined",
     "output_type": "error",
     "traceback": [
      "\u001b[0;31m---------------------------------------------------------------------------\u001b[0m",
      "\u001b[0;31mNameError\u001b[0m                                 Traceback (most recent call last)",
      "\u001b[0;32m<ipython-input-1-8f7bd15319aa>\u001b[0m in \u001b[0;36m<module>\u001b[0;34m()\u001b[0m\n\u001b[0;32m----> 1\u001b[0;31m \u001b[0mpage\u001b[0m \u001b[0;34m=\u001b[0m \u001b[0mrequests\u001b[0m\u001b[0;34m.\u001b[0m\u001b[0mget\u001b[0m\u001b[0;34m(\u001b[0m\u001b[0murl\u001b[0m\u001b[0;34m)\u001b[0m\u001b[0;34m\u001b[0m\u001b[0m\n\u001b[0m",
      "\u001b[0;31mNameError\u001b[0m: name 'requests' is not defined"
     ]
    }
   ],
   "source": []
  }
 ],
 "metadata": {
  "kernelspec": {
   "display_name": "Python 3",
   "language": "python",
   "name": "python3"
  },
  "language_info": {
   "codemirror_mode": {
    "name": "ipython",
    "version": 3
   },
   "file_extension": ".py",
   "mimetype": "text/x-python",
   "name": "python",
   "nbconvert_exporter": "python",
   "pygments_lexer": "ipython3",
   "version": "3.6.6"
  }
 },
 "nbformat": 4,
 "nbformat_minor": 2
}
