{
 "cells": [
  {
   "cell_type": "markdown",
   "metadata": {},
   "source": [
    "BoxOfficeMojo Python WebScraper"
   ]
  },
  {
   "cell_type": "code",
   "execution_count": 7,
   "metadata": {},
   "outputs": [],
   "source": [
    "from IPython.display import Image\n",
    "\n",
    "from bs4 import BeautifulSoup\n",
    "\n",
    "import requests"
   ]
  },
  {
   "cell_type": "markdown",
   "metadata": {},
   "source": [
    "Testing with Scream page on BoxOfficeMojo.com\n",
    "\n",
    "I have identified "
   ]
  },
  {
   "cell_type": "code",
   "execution_count": 5,
   "metadata": {},
   "outputs": [
    {
     "name": "stdout",
     "output_type": "stream",
     "text": [
      "/bin/sh: -c: line 0: syntax error near unexpected token `BoxOfficeMojoFieldsListed.png'\r\n",
      "/bin/sh: -c: line 0: `[title](BoxOfficeMojoFieldsListed.png)'\r\n"
     ]
    }
   ],
   "source": [
    "PATH = \"/Users/Love/Documents/Projects/BoxOfficeMojo WebScraper/\"\n",
    "Image(filename = PATH + \"My_picture.jpg\", width=100, height=100)\n",
    "![title](BoxOfficeMojoFieldsListed.png)"
   ]
  },
  {
   "cell_type": "code",
   "execution_count": 2,
   "metadata": {},
   "outputs": [],
   "source": []
  }
 ],
 "metadata": {
  "kernelspec": {
   "display_name": "Python 3",
   "language": "python",
   "name": "python3"
  },
  "language_info": {
   "codemirror_mode": {
    "name": "ipython",
    "version": 3
   },
   "file_extension": ".py",
   "mimetype": "text/x-python",
   "name": "python",
   "nbconvert_exporter": "python",
   "pygments_lexer": "ipython3",
   "version": "3.6.4"
  }
 },
 "nbformat": 4,
 "nbformat_minor": 2
}
