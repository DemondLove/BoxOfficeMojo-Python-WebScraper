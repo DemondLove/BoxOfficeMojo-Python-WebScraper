{
 "cells": [
  {
   "cell_type": "markdown",
   "metadata": {},
   "source": [
    "# MasterURLs"
   ]
  },
  {
   "cell_type": "code",
   "execution_count": 17,
   "metadata": {},
   "outputs": [],
   "source": [
    "from bs4 import BeautifulSoup\n",
    "\n",
    "import requests"
   ]
  },
  {
   "cell_type": "code",
   "execution_count": 18,
   "metadata": {},
   "outputs": [],
   "source": [
    "url = 'https://www.boxofficemojo.com/yearly/'"
   ]
  },
  {
   "cell_type": "code",
   "execution_count": 19,
   "metadata": {},
   "outputs": [],
   "source": [
    "def YearlyTop100sparser(url):\n",
    "    page = requests.get(url)\n",
    "    year = BeautifulSoup(page.content, 'lxml').find('div', id='body').find('table').find_next('table').find_next('table')\n",
    "    li = []\n",
    "    td = year.find_all('a')\n",
    "    for i in td:\n",
    "        li.append(i.get('href'))\n",
    "    YearlyTop100s = []\n",
    "    for i in range(0, len(li)-1):\n",
    "        if 'chart' in li[i]:\n",
    "            YearlyTop100s.append(li[i])\n",
    "    for i in range(0, len(YearlyTop100s)):\n",
    "        YearlyTop100s[i] = 'https://www.boxofficemojo.com/yearly/'+ YearlyTop100s[i]\n",
    "    return YearlyTop100s"
   ]
  },
  {
   "cell_type": "code",
   "execution_count": 20,
   "metadata": {},
   "outputs": [],
   "source": [
    "def YearlyNonTop100sparser(url):\n",
    "    YearlyTop100s = YearlyTop100sparser(url)\n",
    "    YearlyNonTop100s = []\n",
    "    for x in YearlyTop100s:\n",
    "        page = requests.get(x)\n",
    "        soup = BeautifulSoup(page.content, 'lxml')\n",
    "        footer = soup.find('center')\n",
    "        footer_url_rows = footer.find_all('a')\n",
    "        for i in footer_url_rows:\n",
    "            YearlyNonTop100s.append(i.get('href'))  \n",
    "    for i in range(0, len(YearlyNonTop100s)):\n",
    "        YearlyNonTop100s[i] = 'https://www.boxofficemojo.com'+ YearlyNonTop100s[i]\n",
    "    return YearlyNonTop100s"
   ]
  },
  {
   "cell_type": "code",
   "execution_count": 21,
   "metadata": {},
   "outputs": [],
   "source": [
    "def AllYearlyURLsparser(url):\n",
    "    AllYearlyURLs = []\n",
    "    YearlyTop100s = YearlyTop100sparser(url)\n",
    "    YearlyNonTop100s = YearlyNonTop100sparser(url)\n",
    "    for x in YearlyTop100s:\n",
    "        AllYearlyURLs.append(x)\n",
    "    for x in YearlyNonTop100s:\n",
    "        AllYearlyURLs.append(x)\n",
    "    return AllYearlyURLs"
   ]
  },
  {
   "cell_type": "code",
   "execution_count": 22,
   "metadata": {},
   "outputs": [],
   "source": [
    "def MasterURLsparser(url):\n",
    "    MasterURLs = []\n",
    "    AllYearlyURLs = AllYearlyURLsparser(url)\n",
    "    for x in AllYearlyURLs:\n",
    "        page = requests.get(x)\n",
    "        soup = BeautifulSoup(page.content, 'lxml')\n",
    "        body = soup.find('table', cellpadding='5')\n",
    "        urls_rows_ffffff = body.find_all('tr', bgcolor='#ffffff')\n",
    "        li = []\n",
    "        for tr in urls_rows_ffffff:\n",
    "            td = tr.find_all('a')\n",
    "            for i in td:\n",
    "                li.append(i.get('href'))\n",
    "        urls_rows_f4f4ff = body.find_all('tr', bgcolor='#f4f4ff')\n",
    "        lis = []\n",
    "        for tr in urls_rows_f4f4ff:\n",
    "            td = tr.find_all('a')\n",
    "            for i in td:\n",
    "                lis.append(i.get('href'))\n",
    "        for i in range(0, len(li)-1):\n",
    "            if 'movies' in li[i]:\n",
    "                MasterURLs.append(li[i])\n",
    "        for i in range(0, len(lis)-1):\n",
    "            if 'movies' in lis[i]:\n",
    "                MasterURLs.append(lis[i])\n",
    "    for i in range(0, len(MasterURLs)):\n",
    "        MasterURLs[i] = 'https://www.boxofficemojo.com'+ MasterURLs[i]\n",
    "    return MasterURLs"
   ]
  },
  {
   "cell_type": "code",
   "execution_count": 23,
   "metadata": {},
   "outputs": [],
   "source": [
    "MasterURLs = MasterURLsparser(url)"
   ]
  },
  {
   "cell_type": "code",
   "execution_count": 24,
   "metadata": {},
   "outputs": [
    {
     "data": {
      "text/plain": [
       "15744"
      ]
     },
     "execution_count": 24,
     "metadata": {},
     "output_type": "execute_result"
    }
   ],
   "source": [
    "len(MasterURLs)"
   ]
  },
  {
   "cell_type": "code",
   "execution_count": null,
   "metadata": {},
   "outputs": [],
   "source": [
    "'''\n",
    "2018 - 523\n",
    "2017 - 740\n",
    "2016 - 736\n",
    "2015 - 705\n",
    "2014 - 707\n",
    "2013 - 688\n",
    "2012 - 669\n",
    "2011 - 602\n",
    "2010 - 537\n",
    "2009 - 521\n",
    "2008 - 607\n",
    "2007 - 631\n",
    "2006 - 608\n",
    "2005 - 547\n",
    "2004 - 551\n",
    "2003 - 506\n",
    "2002 - 480\n",
    "2001 - 356\n",
    "2000 - 374\n",
    "1999 - 385\n",
    "1998 - 336\n",
    "1997 - 303\n",
    "1996 - 311\n",
    "1995 - 280\n",
    "1994 - 258\n",
    "1993 - 259\n",
    "1992 - 235\n",
    "1991 - 245\n",
    "1990 - 225\n",
    "1989 - 240\n",
    "1988 - 254\n",
    "1987 - 238\n",
    "1986 - 209\n",
    "1985 - 180\n",
    "1984 - 168\n",
    "1983 - 163\n",
    "1982 - 132\n",
    "1981 - 113\n",
    "1980 - 116\n",
    "--15,738 total films listed.\n",
    "I could have easily miskeyed something, so 15,744 looks like all of them.\n",
    "'''"
   ]
  }
 ],
 "metadata": {
  "kernelspec": {
   "display_name": "Python 3",
   "language": "python",
   "name": "python3"
  },
  "language_info": {
   "codemirror_mode": {
    "name": "ipython",
    "version": 3
   },
   "file_extension": ".py",
   "mimetype": "text/x-python",
   "name": "python",
   "nbconvert_exporter": "python",
   "pygments_lexer": "ipython3",
   "version": "3.6.4"
  }
 },
 "nbformat": 4,
 "nbformat_minor": 2
}
