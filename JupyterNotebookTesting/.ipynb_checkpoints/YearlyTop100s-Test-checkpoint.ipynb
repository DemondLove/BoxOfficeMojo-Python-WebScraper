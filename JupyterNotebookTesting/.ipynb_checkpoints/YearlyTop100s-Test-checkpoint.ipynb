{
 "cells": [
  {
   "cell_type": "markdown",
   "metadata": {},
   "source": [
    "# YearlyTop100s Test"
   ]
  },
  {
   "cell_type": "code",
   "execution_count": 44,
   "metadata": {},
   "outputs": [],
   "source": [
    "from bs4 import BeautifulSoup\n",
    "\n",
    "import requests"
   ]
  },
  {
   "cell_type": "code",
   "execution_count": 45,
   "metadata": {},
   "outputs": [],
   "source": [
    "page = requests.get('https://www.boxofficemojo.com/yearly/')"
   ]
  },
  {
   "cell_type": "code",
   "execution_count": 46,
   "metadata": {},
   "outputs": [],
   "source": [
    "year = BeautifulSoup(page.content, 'lxml').find('div', id='body').find('table').find_next('table').find_next('table')"
   ]
  },
  {
   "cell_type": "code",
   "execution_count": 47,
   "metadata": {},
   "outputs": [],
   "source": [
    "li = []\n",
    "td = year.find_all('a')\n",
    "for i in td:\n",
    "    li.append(i.get('href'))"
   ]
  },
  {
   "cell_type": "code",
   "execution_count": 48,
   "metadata": {},
   "outputs": [],
   "source": [
    "YearlyTop100s = []\n",
    "for i in range(0, len(li)-1):\n",
    "    if 'chart' in li[i]:\n",
    "        YearlyTop100s.append(li[i])"
   ]
  },
  {
   "cell_type": "code",
   "execution_count": 49,
   "metadata": {},
   "outputs": [],
   "source": [
    "for i in range(0, len(YearlyTop100s)):\n",
    "    YearlyTop100s[i] = 'https://www.boxofficemojo.com'+ YearlyTop100s[i]"
   ]
  },
  {
   "cell_type": "code",
   "execution_count": 50,
   "metadata": {},
   "outputs": [
    {
     "data": {
      "text/plain": [
       "['https://www.boxofficemojo.comchart/?yr=2018&p=.htm',\n",
       " 'https://www.boxofficemojo.comchart/?yr=2017&p=.htm',\n",
       " 'https://www.boxofficemojo.comchart/?yr=2016&p=.htm',\n",
       " 'https://www.boxofficemojo.comchart/?yr=2015&p=.htm',\n",
       " 'https://www.boxofficemojo.comchart/?yr=2014&p=.htm',\n",
       " 'https://www.boxofficemojo.comchart/?yr=2013&p=.htm',\n",
       " 'https://www.boxofficemojo.comchart/?yr=2012&p=.htm',\n",
       " 'https://www.boxofficemojo.comchart/?yr=2011&p=.htm',\n",
       " 'https://www.boxofficemojo.comchart/?yr=2010&p=.htm',\n",
       " 'https://www.boxofficemojo.comchart/?yr=2009&p=.htm',\n",
       " 'https://www.boxofficemojo.comchart/?yr=2008&p=.htm',\n",
       " 'https://www.boxofficemojo.comchart/?yr=2007&p=.htm',\n",
       " 'https://www.boxofficemojo.comchart/?yr=2006&p=.htm',\n",
       " 'https://www.boxofficemojo.comchart/?yr=2005&p=.htm',\n",
       " 'https://www.boxofficemojo.comchart/?yr=2004&p=.htm',\n",
       " 'https://www.boxofficemojo.comchart/?yr=2003&p=.htm',\n",
       " 'https://www.boxofficemojo.comchart/?yr=2002&p=.htm',\n",
       " 'https://www.boxofficemojo.comchart/?yr=2001&p=.htm',\n",
       " 'https://www.boxofficemojo.comchart/?yr=2000&p=.htm',\n",
       " 'https://www.boxofficemojo.comchart/?yr=1999&p=.htm',\n",
       " 'https://www.boxofficemojo.comchart/?yr=1998&p=.htm',\n",
       " 'https://www.boxofficemojo.comchart/?yr=1997&p=.htm',\n",
       " 'https://www.boxofficemojo.comchart/?yr=1996&p=.htm',\n",
       " 'https://www.boxofficemojo.comchart/?yr=1995&p=.htm',\n",
       " 'https://www.boxofficemojo.comchart/?yr=1994&p=.htm',\n",
       " 'https://www.boxofficemojo.comchart/?yr=1993&p=.htm',\n",
       " 'https://www.boxofficemojo.comchart/?yr=1992&p=.htm',\n",
       " 'https://www.boxofficemojo.comchart/?yr=1991&p=.htm',\n",
       " 'https://www.boxofficemojo.comchart/?yr=1990&p=.htm',\n",
       " 'https://www.boxofficemojo.comchart/?yr=1989&p=.htm',\n",
       " 'https://www.boxofficemojo.comchart/?yr=1988&p=.htm',\n",
       " 'https://www.boxofficemojo.comchart/?yr=1987&p=.htm',\n",
       " 'https://www.boxofficemojo.comchart/?yr=1986&p=.htm',\n",
       " 'https://www.boxofficemojo.comchart/?yr=1985&p=.htm',\n",
       " 'https://www.boxofficemojo.comchart/?yr=1984&p=.htm',\n",
       " 'https://www.boxofficemojo.comchart/?yr=1983&p=.htm',\n",
       " 'https://www.boxofficemojo.comchart/?yr=1982&p=.htm',\n",
       " 'https://www.boxofficemojo.comchart/?yr=1981&p=.htm',\n",
       " 'https://www.boxofficemojo.comchart/?yr=1980&p=.htm']"
      ]
     },
     "execution_count": 50,
     "metadata": {},
     "output_type": "execute_result"
    }
   ],
   "source": [
    "YearlyTop100s"
   ]
  },
  {
   "cell_type": "code",
   "execution_count": null,
   "metadata": {},
   "outputs": [],
   "source": [
    "def YearlyTop100s(url):\n",
    "    page = requests.get(url)\n",
    "    year = BeautifulSoup(page.content, 'lxml').find('div', id='body').find('table').find_next('table').find_next('table')\n",
    "    li = []\n",
    "    td = year.find_all('a')\n",
    "    for i in td:\n",
    "        li.append(i.get('href'))\n",
    "    YearlyTop100s = []\n",
    "    for i in range(0, len(li)-1):\n",
    "        if 'chart' in li[i]:\n",
    "            YearlyTop100s.append(li[i])\n",
    "    for i in range(0, len(YearlyTop100s)):\n",
    "        YearlyTop100s[i] = 'https://www.boxofficemojo.com'+ YearlyTop100s[i]\n",
    "    return YearlyTop100s"
   ]
  },
  {
   "cell_type": "code",
   "execution_count": null,
   "metadata": {},
   "outputs": [],
   "source": []
  },
  {
   "cell_type": "code",
   "execution_count": null,
   "metadata": {},
   "outputs": [],
   "source": []
  },
  {
   "cell_type": "code",
   "execution_count": null,
   "metadata": {},
   "outputs": [],
   "source": []
  },
  {
   "cell_type": "code",
   "execution_count": null,
   "metadata": {},
   "outputs": [],
   "source": []
  },
  {
   "cell_type": "code",
   "execution_count": null,
   "metadata": {},
   "outputs": [],
   "source": []
  },
  {
   "cell_type": "code",
   "execution_count": null,
   "metadata": {},
   "outputs": [],
   "source": []
  },
  {
   "cell_type": "code",
   "execution_count": null,
   "metadata": {},
   "outputs": [],
   "source": []
  },
  {
   "cell_type": "code",
   "execution_count": null,
   "metadata": {},
   "outputs": [],
   "source": []
  },
  {
   "cell_type": "code",
   "execution_count": null,
   "metadata": {},
   "outputs": [],
   "source": []
  },
  {
   "cell_type": "code",
   "execution_count": null,
   "metadata": {},
   "outputs": [],
   "source": []
  },
  {
   "cell_type": "code",
   "execution_count": null,
   "metadata": {},
   "outputs": [],
   "source": []
  },
  {
   "cell_type": "code",
   "execution_count": null,
   "metadata": {},
   "outputs": [],
   "source": []
  },
  {
   "cell_type": "code",
   "execution_count": null,
   "metadata": {},
   "outputs": [],
   "source": []
  },
  {
   "cell_type": "code",
   "execution_count": null,
   "metadata": {},
   "outputs": [],
   "source": []
  },
  {
   "cell_type": "code",
   "execution_count": null,
   "metadata": {},
   "outputs": [],
   "source": []
  },
  {
   "cell_type": "code",
   "execution_count": null,
   "metadata": {},
   "outputs": [],
   "source": []
  },
  {
   "cell_type": "code",
   "execution_count": null,
   "metadata": {},
   "outputs": [],
   "source": []
  },
  {
   "cell_type": "code",
   "execution_count": null,
   "metadata": {},
   "outputs": [],
   "source": []
  },
  {
   "cell_type": "code",
   "execution_count": null,
   "metadata": {},
   "outputs": [],
   "source": []
  },
  {
   "cell_type": "code",
   "execution_count": null,
   "metadata": {},
   "outputs": [],
   "source": []
  },
  {
   "cell_type": "code",
   "execution_count": null,
   "metadata": {},
   "outputs": [],
   "source": []
  },
  {
   "cell_type": "code",
   "execution_count": null,
   "metadata": {},
   "outputs": [],
   "source": []
  },
  {
   "cell_type": "code",
   "execution_count": null,
   "metadata": {},
   "outputs": [],
   "source": []
  },
  {
   "cell_type": "code",
   "execution_count": null,
   "metadata": {},
   "outputs": [],
   "source": []
  },
  {
   "cell_type": "code",
   "execution_count": null,
   "metadata": {},
   "outputs": [],
   "source": []
  },
  {
   "cell_type": "code",
   "execution_count": null,
   "metadata": {},
   "outputs": [],
   "source": []
  },
  {
   "cell_type": "code",
   "execution_count": null,
   "metadata": {},
   "outputs": [],
   "source": []
  },
  {
   "cell_type": "code",
   "execution_count": null,
   "metadata": {},
   "outputs": [],
   "source": []
  },
  {
   "cell_type": "code",
   "execution_count": null,
   "metadata": {},
   "outputs": [],
   "source": []
  }
 ],
 "metadata": {
  "kernelspec": {
   "display_name": "Python 3",
   "language": "python",
   "name": "python3"
  },
  "language_info": {
   "codemirror_mode": {
    "name": "ipython",
    "version": 3
   },
   "file_extension": ".py",
   "mimetype": "text/x-python",
   "name": "python",
   "nbconvert_exporter": "python",
   "pygments_lexer": "ipython3",
   "version": "3.6.4"
  }
 },
 "nbformat": 4,
 "nbformat_minor": 2
}
